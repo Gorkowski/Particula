{
 "cells": [
  {
   "cell_type": "markdown",
   "metadata": {},
   "source": [
    "# Condensation Tutorial: Particle Resolved\n",
    "\n",
    "*Work in progress, probably split into multiple notebooks, need to find a model system to test this on*\n",
    "\n",
    "A particle resolved model is a model that tracks the properties of individual particles or collection of particles (e.g., super droplets). This is in contrast to a bulk model, which tracks the properties of the entire aerosol population. The particle resolved model can be more computationally expensive, but can provide more detailed information about the aerosol population.\n",
    "\n",
    "To run this type of model we will need to use a speciated distribution representation. This is so that we can track the properties of individual particles.\n"
   ]
  },
  {
   "cell_type": "code",
   "execution_count": 1,
   "metadata": {},
   "outputs": [],
   "source": [
    "import numpy as np\n",
    "import matplotlib.pyplot as plt\n",
    "\n",
    "# particula imports\n",
    "from particula.next import particles\n",
    "from particula.next.gas.atmosphere_builders import AtmosphereBuilder\n",
    "from particula.next.gas.vapor_pressure_factories import VaporPressureFactory\n",
    "from particula.next.gas.species_builders import GasSpeciesBuilder\n",
    "from particula.next.aerosol import Aerosol\n",
    "from particula.next.dynamics.particle_process import MassCondensation\n",
    "from particula.next.dynamics.condensation import CondensationIsothermal\n",
    "\n",
    "from particula.util.input_handling import convert_units"
   ]
  },
  {
   "cell_type": "markdown",
   "metadata": {},
   "source": [
    "## Aerosol Object\n",
    "\n",
    "First we'll draw from a lognormal distribution to create a set of particles. We'll will then build an aerosol object to represent the aerosol population.\n"
   ]
  },
  {
   "cell_type": "code",
   "execution_count": 2,
   "metadata": {},
   "outputs": [],
   "source": [
    "# Ammonium sulfate and water vapor pressure\n",
    "molar_mass_ammonium_sulfate = 132.14e-3  # kg/mol\n",
    "molar_mass_water = 18.015e-3  # kg/mol\n",
    "parameters_vapor = {\n",
    "    \"vapor_pressure\": 1e-14,\n",
    "}\n",
    "vapor_pressure_ammonium = VaporPressureFactory().get_strategy(\n",
    "    \"constant\", parameters_vapor\n",
    ")\n",
    "vapor_pressure_water = VaporPressureFactory().get_strategy(\n",
    "    \"water_buck\"\n",
    ")\n",
    "\n",
    "water_sat = vapor_pressure_water.saturation_concentration(molar_mass=molar_mass_water, temperature=298.15)\n",
    "water_concentration = 1e-3 * water_sat\n",
    "\n",
    "gas_phase = (\n",
    "    GasSpeciesBuilder()\n",
    "    .set_molar_mass(np.array([molar_mass_water, molar_mass_ammonium_sulfate]), \"kg/mol\")\n",
    "    .set_vapor_pressure_strategy([vapor_pressure_water, vapor_pressure_ammonium])\n",
    "    .set_concentration(np.array([water_concentration, 1e-30]), \"kg/m^3\")\n",
    "    .set_name([\"H2O\", \"NH4HSO4\"])\n",
    "    .set_condensable([True, True])\n",
    "    .build()\n",
    ")\n",
    "\n",
    "atmosphere = (\n",
    "    AtmosphereBuilder()\n",
    "    .add_species(gas_phase)\n",
    "    .set_temperature(25, temperature_units=\"degC\")\n",
    "    .set_pressure(1, pressure_units=\"atm\")\n",
    "    .build()\n",
    ")\n"
   ]
  },
  {
   "cell_type": "markdown",
   "metadata": {},
   "source": [
    "## Sample Distribution\n",
    "\n",
    "Next we'll sample the distribution to get a set of particles. We'll then build an aerosol object to represent the aerosol population."
   ]
  },
  {
   "cell_type": "code",
   "execution_count": 3,
   "metadata": {},
   "outputs": [
    {
     "name": "stdout",
     "output_type": "stream",
     "text": [
      "Inital mass of particles: 1.4337850967692115e-10 kg\n",
      "Initial mass concentration: 1.4337850967692112e-06 kg/m^3\n",
      "Gas mixture at 298.15 K and 101325.0 Pa consisting of [\"['H2O', 'NH4HSO4']\"]\n",
      "[0]: Particle Representation:\n",
      "\tStrategy: ParticleResolvedSpeciatedMass\n",
      "\tActivity: ActivityKappaParameter\n",
      "\tSurface: SurfaceStrategyVolume\n",
      "\tMass Concentration: 1.434e-06 [kg/m^3]\n",
      "\tNumber Concentration: 1.000e+09 [#/m^3]\n"
     ]
    },
    {
     "data": {
      "image/png": "[encoded data removed]",
      "text/plain": [
       "<Figure size 800x600 with 1 Axes>"
      ]
     },
     "metadata": {},
     "output_type": "display_data"
    }
   ],
   "source": [
    "density = 1.77e3  # kg/m^3\n",
    "volume_sim = 100  # cm^3\n",
    "\n",
    "# Generate a particle distribution using a lognormal sample distribution\n",
    "# This distribution has a mean particle diameter (mode) and geometric standard deviation (GSD)\n",
    "particle_sample = particles.properties.lognormal_sample_distribution(\n",
    "    mode=np.array([100, 1000]) * 1e-9,\n",
    "    geometric_standard_deviation=np.array([1.3, 1.5]),\n",
    "    number_of_particles=np.array([1e3, 1e2]),\n",
    "    number_of_samples=100_000,  # Number of samples for particle distribution\n",
    ")\n",
    "\n",
    "# Calculate the mass of each particle in the sample, assuming density of 1500 kg/m^3\n",
    "particle_mass = (\n",
    "    4 / 3 * np.pi * particle_sample**3 * density\n",
    ")  # Particle mass in kg\n",
    "\n",
    "print(f\"Inital mass of particles: {np.sum(particle_mass)} kg\")\n",
    "print(f\"Initial mass concentration: {np.sum(particle_mass) / (volume_sim * convert_units('cm^3', 'm^3'))} kg/m^3\")\n",
    "\n",
    "mass_speciation = np.array(\n",
    "    [particle_mass * 0, particle_mass]\n",
    ").T  # water, ammonium sulfate\n",
    "densities = np.array([1000, density])  # kg/m^3\n",
    "\n",
    "# kappa activity\n",
    "activity_strat = (\n",
    "    particles.ActivityKappaParameterBuilder()\n",
    "    .set_density(densities)\n",
    "    .set_kappa(np.array([0.0, 0.1]))\n",
    "    .set_molar_mass(np.array([molar_mass_water, molar_mass_ammonium_sulfate]))\n",
    "    .set_water_index(0)\n",
    "    .build()\n",
    ")\n",
    "\n",
    "surface_strat = (\n",
    "    particles.SurfaceStrategyVolumeBuilder()\n",
    "    .set_density(densities)\n",
    "    .set_surface_tension(np.array([0.072, 0.092]))\n",
    "    .build()\n",
    ")\n",
    "\n",
    "\n",
    "# Build a resolved mass representation for each particle\n",
    "# This defines how particle mass, activity, and surface are represented\n",
    "resolved_masses = (\n",
    "    particles.ResolvedParticleMassRepresentationBuilder()\n",
    "    .set_distribution_strategy(\n",
    "        particles.ParticleResolvedSpeciatedMass()\n",
    "    )  # Use speciated mass distribution\n",
    "    .set_activity_strategy(\n",
    "        activity_strat\n",
    "    )  # Define activity based on ideal mass\n",
    "    .set_surface_strategy(\n",
    "        surface_strat\n",
    "    )  # Define surface area based on particle volume\n",
    "    .set_mass(mass_speciation, \"kg\")  # Assign mass of particles (in kg)\n",
    "    .set_density(densities, \"kg/m^3\")  # Set particle density to 1500 kg/m^3\n",
    "    .set_charge(0)  # Assume neutral particles with no charge\n",
    "    .set_volume(volume_sim, \"cm^3\")  # Set volume of particle distribution\n",
    "    .build()  # Finalize the resolved mass representation\n",
    ")\n",
    "\n",
    "# Create an aerosol object with the defined atmosphere and resolved particles\n",
    "aerosol = Aerosol(atmosphere=atmosphere, particles=resolved_masses)\n",
    "\n",
    "# Print the properties of the atmosphere\n",
    "print(aerosol)\n",
    "\n",
    "\n",
    "# histogram lognormal\n",
    "\n",
    "bins_lognormal = np.logspace(-8, -5, 100)\n",
    "bins, edges = np.histogram(resolved_masses.get_radius(clone=True), bins=bins_lognormal, density=True)\n",
    "\n",
    "# plot\n",
    "\n",
    "fig, ax = plt.subplots(figsize=(8, 6))\n",
    "\n",
    "ax.bar(edges[:-1], bins, width=np.diff(edges), align=\"edge\")\n",
    "ax.set_xscale(\"log\")\n",
    "\n",
    "ax.set_xlabel(\"Radius (m)\")\n",
    "ax.set_ylabel(\"Count\")\n",
    "plt.show()"
   ]
  },
  {
   "cell_type": "markdown",
   "metadata": {},
   "source": [
    "## Condensation Process\n",
    "\n",
    "Using the same iso thermal condensation process as in the bulk model, we'll update the properties of the particles in the aerosol object. In this cas we will change the water saturation ratio to be 80% and simulate the condensation process."
   ]
  },
  {
   "cell_type": "code",
   "execution_count": 4,
   "metadata": {},
   "outputs": [
    {
     "ename": "MemoryError",
     "evalue": "Unable to allocate 74.5 GiB for an array with shape (100000, 100000) and data type float64",
     "output_type": "error",
     "traceback": [
      "\u001b[1;31m---------------------------------------------------------------------------\u001b[0m",
      "\u001b[1;31mMemoryError\u001b[0m                               Traceback (most recent call last)",
      "Cell \u001b[1;32mIn[4], line 16\u001b[0m\n\u001b[0;32m     11\u001b[0m sub_steps \u001b[38;5;241m=\u001b[39m \u001b[38;5;241m10\u001b[39m\n\u001b[0;32m     14\u001b[0m \u001b[38;5;66;03m# output arrays\u001b[39;00m\n\u001b[1;32m---> 16\u001b[0m rate \u001b[38;5;241m=\u001b[39m \u001b[43mcondensation_process\u001b[49m\u001b[38;5;241;43m.\u001b[39;49m\u001b[43mrate\u001b[49m\u001b[43m(\u001b[49m\u001b[43maerosol\u001b[49m\u001b[43m)\u001b[49m\n\u001b[0;32m     17\u001b[0m \u001b[38;5;28mprint\u001b[39m(\u001b[38;5;124mf\u001b[39m\u001b[38;5;124m\"\u001b[39m\u001b[38;5;124mInital rate: \u001b[39m\u001b[38;5;132;01m{\u001b[39;00mrate[:\u001b[38;5;241m5\u001b[39m]\u001b[38;5;132;01m}\u001b[39;00m\u001b[38;5;124m...\u001b[39m\u001b[38;5;124m\"\u001b[39m)\n\u001b[0;32m     19\u001b[0m \u001b[38;5;66;03m# fig, ax = plt.subplots(figsize=(8, 6))\u001b[39;00m\n\u001b[0;32m     20\u001b[0m \u001b[38;5;66;03m# bins, edges = np.histogram(\u001b[39;00m\n\u001b[0;32m     21\u001b[0m \u001b[38;5;66;03m#     aerosol.particles[0].get_radius(), bins=bins_lognormal\u001b[39;00m\n\u001b[0;32m     22\u001b[0m \u001b[38;5;66;03m# )\u001b[39;00m\n",
      "File \u001b[1;32mC:\\GitHub\\particula\\particula\\next\\dynamics\\particle_process.py:85\u001b[0m, in \u001b[0;36mMassCondensation.rate\u001b[1;34m(self, aerosol)\u001b[0m\n\u001b[0;32m     81\u001b[0m     \u001b[38;5;66;03m# Loop over particles to apply condensation\u001b[39;00m\n\u001b[0;32m     82\u001b[0m     \u001b[38;5;28;01mfor\u001b[39;00m particle \u001b[38;5;129;01min\u001b[39;00m aerosol\u001b[38;5;241m.\u001b[39miterate_particle():\n\u001b[0;32m     83\u001b[0m         \u001b[38;5;66;03m# print(gas_species.name)\u001b[39;00m\n\u001b[0;32m     84\u001b[0m         \u001b[38;5;66;03m# Calculate the rate of condensation\u001b[39;00m\n\u001b[1;32m---> 85\u001b[0m         mass_rate \u001b[38;5;241m=\u001b[39m \u001b[38;5;28;43mself\u001b[39;49m\u001b[38;5;241;43m.\u001b[39;49m\u001b[43mcondensation_strategy\u001b[49m\u001b[38;5;241;43m.\u001b[39;49m\u001b[43mrate\u001b[49m\u001b[43m(\u001b[49m\n\u001b[0;32m     86\u001b[0m \u001b[43m            \u001b[49m\u001b[43mparticle\u001b[49m\u001b[38;5;241;43m=\u001b[39;49m\u001b[43mparticle\u001b[49m\u001b[43m,\u001b[49m\n\u001b[0;32m     87\u001b[0m \u001b[43m            \u001b[49m\u001b[43mgas_species\u001b[49m\u001b[38;5;241;43m=\u001b[39;49m\u001b[43mgas_species\u001b[49m\u001b[43m,\u001b[49m\n\u001b[0;32m     88\u001b[0m \u001b[43m            \u001b[49m\u001b[43mtemperature\u001b[49m\u001b[38;5;241;43m=\u001b[39;49m\u001b[43maerosol\u001b[49m\u001b[38;5;241;43m.\u001b[39;49m\u001b[43matmosphere\u001b[49m\u001b[38;5;241;43m.\u001b[39;49m\u001b[43mtemperature\u001b[49m\u001b[43m,\u001b[49m\n\u001b[0;32m     89\u001b[0m \u001b[43m            \u001b[49m\u001b[43mpressure\u001b[49m\u001b[38;5;241;43m=\u001b[39;49m\u001b[43maerosol\u001b[49m\u001b[38;5;241;43m.\u001b[39;49m\u001b[43matmosphere\u001b[49m\u001b[38;5;241;43m.\u001b[39;49m\u001b[43mtotal_pressure\u001b[49m\u001b[43m,\u001b[49m\n\u001b[0;32m     90\u001b[0m \u001b[43m        \u001b[49m\u001b[43m)\u001b[49m\n\u001b[0;32m     91\u001b[0m         rates \u001b[38;5;241m=\u001b[39m np\u001b[38;5;241m.\u001b[39mappend(rates, mass_rate)\n\u001b[0;32m     92\u001b[0m \u001b[38;5;28;01mreturn\u001b[39;00m rates\n",
      "File \u001b[1;32mC:\\GitHub\\particula\\particula\\next\\dynamics\\condensation.py:582\u001b[0m, in \u001b[0;36mCondensationIsothermal.rate\u001b[1;34m(self, particle, gas_species, temperature, pressure)\u001b[0m\n\u001b[0;32m    573\u001b[0m \u001b[38;5;28;01mdef\u001b[39;00m \u001b[38;5;21mrate\u001b[39m(\n\u001b[0;32m    574\u001b[0m     \u001b[38;5;28mself\u001b[39m,\n\u001b[0;32m    575\u001b[0m     particle: ParticleRepresentation,\n\u001b[1;32m   (...)\u001b[0m\n\u001b[0;32m    580\u001b[0m \n\u001b[0;32m    581\u001b[0m     \u001b[38;5;66;03m# Step 1: Calculate the mass transfer rate due to condensation\u001b[39;00m\n\u001b[1;32m--> 582\u001b[0m     mass_rate \u001b[38;5;241m=\u001b[39m \u001b[38;5;28;43mself\u001b[39;49m\u001b[38;5;241;43m.\u001b[39;49m\u001b[43mmass_transfer_rate\u001b[49m\u001b[43m(\u001b[49m\n\u001b[0;32m    583\u001b[0m \u001b[43m        \u001b[49m\u001b[43mparticle\u001b[49m\u001b[38;5;241;43m=\u001b[39;49m\u001b[43mparticle\u001b[49m\u001b[43m,\u001b[49m\n\u001b[0;32m    584\u001b[0m \u001b[43m        \u001b[49m\u001b[43mgas_species\u001b[49m\u001b[38;5;241;43m=\u001b[39;49m\u001b[43mgas_species\u001b[49m\u001b[43m,\u001b[49m\n\u001b[0;32m    585\u001b[0m \u001b[43m        \u001b[49m\u001b[43mtemperature\u001b[49m\u001b[38;5;241;43m=\u001b[39;49m\u001b[43mtemperature\u001b[49m\u001b[43m,\u001b[49m\n\u001b[0;32m    586\u001b[0m \u001b[43m        \u001b[49m\u001b[43mpressure\u001b[49m\u001b[38;5;241;43m=\u001b[39;49m\u001b[43mpressure\u001b[49m\u001b[43m,\u001b[49m\n\u001b[0;32m    587\u001b[0m \u001b[43m    \u001b[49m\u001b[43m)\u001b[49m\n\u001b[0;32m    589\u001b[0m     \u001b[38;5;66;03m# Step 2: Reshape the particle concentration if necessary\u001b[39;00m\n\u001b[0;32m    590\u001b[0m     \u001b[38;5;28;01mif\u001b[39;00m mass_rate\u001b[38;5;241m.\u001b[39mndim \u001b[38;5;241m==\u001b[39m \u001b[38;5;241m2\u001b[39m:  \u001b[38;5;66;03m# Multiple gas species  # type: ignore\u001b[39;00m\n",
      "File \u001b[1;32mC:\\GitHub\\particula\\particula\\next\\dynamics\\condensation.py:545\u001b[0m, in \u001b[0;36mCondensationIsothermal.mass_transfer_rate\u001b[1;34m(self, particle, gas_species, temperature, pressure, dynamic_viscosity)\u001b[0m\n\u001b[0;32m    538\u001b[0m first_order_mass_transport \u001b[38;5;241m=\u001b[39m \u001b[38;5;28mself\u001b[39m\u001b[38;5;241m.\u001b[39mfirst_order_mass_transport(\n\u001b[0;32m    539\u001b[0m     radius\u001b[38;5;241m=\u001b[39mparticle\u001b[38;5;241m.\u001b[39mget_radius(),\n\u001b[0;32m    540\u001b[0m     temperature\u001b[38;5;241m=\u001b[39mtemperature,\n\u001b[0;32m    541\u001b[0m     pressure\u001b[38;5;241m=\u001b[39mpressure,\n\u001b[0;32m    542\u001b[0m     dynamic_viscosity\u001b[38;5;241m=\u001b[39mdynamic_viscosity,\n\u001b[0;32m    543\u001b[0m )\n\u001b[0;32m    544\u001b[0m \u001b[38;5;66;03m# calculate the partial pressure\u001b[39;00m\n\u001b[1;32m--> 545\u001b[0m partial_pressure_particle \u001b[38;5;241m=\u001b[39m \u001b[43mparticle\u001b[49m\u001b[38;5;241;43m.\u001b[39;49m\u001b[43mactivity\u001b[49m\u001b[38;5;241;43m.\u001b[39;49m\u001b[43mpartial_pressure\u001b[49m\u001b[43m(\u001b[49m\n\u001b[0;32m    546\u001b[0m \u001b[43m    \u001b[49m\u001b[43mpure_vapor_pressure\u001b[49m\u001b[38;5;241;43m=\u001b[39;49m\u001b[43mgas_species\u001b[49m\u001b[38;5;241;43m.\u001b[39;49m\u001b[43mget_pure_vapor_pressure\u001b[49m\u001b[43m(\u001b[49m\n\u001b[0;32m    547\u001b[0m \u001b[43m        \u001b[49m\u001b[43mtemperature\u001b[49m\n\u001b[0;32m    548\u001b[0m \u001b[43m    \u001b[49m\u001b[43m)\u001b[49m\u001b[43m,\u001b[49m\n\u001b[0;32m    549\u001b[0m \u001b[43m    \u001b[49m\u001b[43mmass_concentration\u001b[49m\u001b[38;5;241;43m=\u001b[39;49m\u001b[43mparticle\u001b[49m\u001b[38;5;241;43m.\u001b[39;49m\u001b[43mget_species_mass\u001b[49m\u001b[43m(\u001b[49m\u001b[43m)\u001b[49m\u001b[43m,\u001b[49m\n\u001b[0;32m    550\u001b[0m \u001b[43m\u001b[49m\u001b[43m)\u001b[49m\n\u001b[0;32m    551\u001b[0m partial_pressure_gas \u001b[38;5;241m=\u001b[39m gas_species\u001b[38;5;241m.\u001b[39mget_partial_pressure(temperature)\n\u001b[0;32m    552\u001b[0m \u001b[38;5;66;03m# calculate the kelvin term\u001b[39;00m\n",
      "File \u001b[1;32mC:\\GitHub\\particula\\particula\\next\\particles\\activity_strategies.py:70\u001b[0m, in \u001b[0;36mActivityStrategy.partial_pressure\u001b[1;34m(self, pure_vapor_pressure, mass_concentration)\u001b[0m\n\u001b[0;32m     50\u001b[0m \u001b[38;5;28;01mdef\u001b[39;00m \u001b[38;5;21mpartial_pressure\u001b[39m(\n\u001b[0;32m     51\u001b[0m     \u001b[38;5;28mself\u001b[39m,\n\u001b[0;32m     52\u001b[0m     pure_vapor_pressure: Union[\u001b[38;5;28mfloat\u001b[39m, NDArray[np\u001b[38;5;241m.\u001b[39mfloat64]],\n\u001b[0;32m     53\u001b[0m     mass_concentration: Union[\u001b[38;5;28mfloat\u001b[39m, NDArray[np\u001b[38;5;241m.\u001b[39mfloat64]],\n\u001b[0;32m     54\u001b[0m ) \u001b[38;5;241m-\u001b[39m\u001b[38;5;241m>\u001b[39m Union[\u001b[38;5;28mfloat\u001b[39m, NDArray[np\u001b[38;5;241m.\u001b[39mfloat64]]:\n\u001b[0;32m     55\u001b[0m \u001b[38;5;250m    \u001b[39m\u001b[38;5;124;03m\"\"\"Calculate the vapor pressure of species in the particle phase.\u001b[39;00m\n\u001b[0;32m     56\u001b[0m \n\u001b[0;32m     57\u001b[0m \u001b[38;5;124;03m    This method computes the vapor pressure based on the species' activity\u001b[39;00m\n\u001b[1;32m   (...)\u001b[0m\n\u001b[0;32m     68\u001b[0m \u001b[38;5;124;03m        in pascals (Pa).\u001b[39;00m\n\u001b[0;32m     69\u001b[0m \u001b[38;5;124;03m    \"\"\"\u001b[39;00m\n\u001b[1;32m---> 70\u001b[0m     \u001b[38;5;28;01mreturn\u001b[39;00m pure_vapor_pressure \u001b[38;5;241m*\u001b[39m \u001b[38;5;28;43mself\u001b[39;49m\u001b[38;5;241;43m.\u001b[39;49m\u001b[43mactivity\u001b[49m\u001b[43m(\u001b[49m\u001b[43mmass_concentration\u001b[49m\u001b[43m)\u001b[49m\n",
      "File \u001b[1;32mC:\\GitHub\\particula\\particula\\next\\particles\\activity_strategies.py:209\u001b[0m, in \u001b[0;36mActivityKappaParameter.activity\u001b[1;34m(self, mass_concentration)\u001b[0m\n\u001b[0;32m    206\u001b[0m solute_volume \u001b[38;5;241m=\u001b[39m \u001b[38;5;241m1\u001b[39m \u001b[38;5;241m-\u001b[39m water_volume_fraction\n\u001b[0;32m    207\u001b[0m \u001b[38;5;66;03m# volume weighted kappa, EQ 7 Petters and Kreidenweis (2007)\u001b[39;00m\n\u001b[0;32m    208\u001b[0m kappa_weighted \u001b[38;5;241m=\u001b[39m np\u001b[38;5;241m.\u001b[39msum(\n\u001b[1;32m--> 209\u001b[0m     \u001b[43msolute_volume_fractions\u001b[49m\u001b[43m \u001b[49m\u001b[38;5;241;43m/\u001b[39;49m\u001b[43m \u001b[49m\u001b[43msolute_volume\u001b[49m \u001b[38;5;241m*\u001b[39m \u001b[38;5;28mself\u001b[39m\u001b[38;5;241m.\u001b[39mkappa, axis\u001b[38;5;241m=\u001b[39m\u001b[38;5;241m1\u001b[39m\n\u001b[0;32m    210\u001b[0m )\n\u001b[0;32m    211\u001b[0m \u001b[38;5;66;03m# kappa activity parameterization, EQ 2 Petters and Kreidenweis\u001b[39;00m\n\u001b[0;32m    212\u001b[0m \u001b[38;5;66;03m# (2007)\u001b[39;00m\n\u001b[0;32m    213\u001b[0m numerator \u001b[38;5;241m=\u001b[39m kappa_weighted \u001b[38;5;241m*\u001b[39m solute_volume\n",
      "\u001b[1;31mMemoryError\u001b[0m: Unable to allocate 74.5 GiB for an array with shape (100000, 100000) and data type float64"
     ]
    }
   ],
   "source": [
    "# define the condensation process\n",
    "condensation_isothermal = CondensationIsothermal(\n",
    "    molar_mass=np.array([molar_mass_water, molar_mass_ammonium_sulfate]),  # kg/mol\n",
    "    diffusion_coefficient=2.0*1e-9,\n",
    "    accommodation_coefficient=0.1,  #makes things go slower/faster\n",
    ")\n",
    "condensation_process = MassCondensation(condensation_strategy=condensation_isothermal)\n",
    "\n",
    "# define the time array in seconds\n",
    "time_step = 1000\n",
    "sub_steps = 10\n",
    "\n",
    "\n",
    "# output arrays\n",
    "\n",
    "rate = condensation_process.rate(aerosol)\n",
    "print(f\"Inital rate: {rate[:5]}...\")\n",
    "\n",
    "# fig, ax = plt.subplots(figsize=(8, 6))\n",
    "# bins, edges = np.histogram(\n",
    "#     aerosol.particles[0].get_radius(), bins=bins_lognormal\n",
    "# )\n",
    "print(aerosol)\n",
    "particle_initial = aerosol.particles[0].get_radius(clone=True)\n",
    "aerosol = condensation_process.execute(aerosol, time_step, sub_steps)\n",
    "\n",
    "particle_step1 = aerosol.particles[0].get_radius(clone=True)\n",
    "print(aerosol)\n",
    "\n",
    "\n",
    "\n",
    "fig, ax = plt.subplots(figsize=(8, 6))\n",
    "ax.hist(particle_initial, bins=bins_lognormal, alpha=0.5, label=\"Initial\")\n",
    "ax.hist(particle_step1, bins=bins_lognormal, alpha=0.5, label=\"After 1 step\")\n",
    "ax.set_xscale(\"log\")\n",
    "ax.set_yscale(\"log\")\n",
    "ax.set_xlabel(\"Radius (m)\")\n",
    "ax.set_ylabel(\"Count\")\n",
    "ax.legend()\n",
    "plt.show()\n",
    "\n",
    "# ax.bar(edges[:-1], bins, width=np.diff(edges), align=\"edge\", label=\"Initial\")\n",
    "\n",
    "# # one step\n",
    "# aerosol = condensation_process.execute(aerosol, time_step)\n",
    "# bins, edges = np.histogram(\n",
    "#     aerosol.particles[0].get_radius(), bins=bins_lognormal\n",
    "# )\n",
    "\n",
    "# ax.bar(edges[:-1], bins, width=np.diff(edges), align=\"edge\", label=\"After 1 step\", alpha=0.8)\n",
    "\n",
    "# # 10 seconds\n",
    "# aerosol = condensation_process.execute(aerosol, 1)\n",
    "# bins, edges = np.histogram(\n",
    "#     aerosol.particles[0].get_radius(), bins=bins_lognormal\n",
    "# )\n",
    "# ax.bar(edges[:-1], bins, width=np.diff(edges), align=\"edge\", label=\"After 2 steps\", alpha=0.7)\n",
    "\n",
    "\n",
    "# ax.set_xscale(\"log\")\n",
    "# # ax.set_yscale(\"log\")\n",
    "# plt.legend()\n",
    "# ax.set_xlabel(\"Radius (m)\")\n",
    "# ax.set_ylabel(\"Concentration (1/m^3)\")\n",
    "# plt.show()"
   ]
  },
  {
   "cell_type": "markdown",
   "metadata": {},
   "source": [
    "## Small Particles Grow Faster\n",
    "\n",
    "We can see from the previous example that the smaller particles grow faster than the larger particles. This is because the smaller particles have a higher surface area to volume ratio, which means they can take up more water.\n",
    "\n",
    "However, that"
   ]
  },
  {
   "cell_type": "markdown",
   "metadata": {},
   "source": [
    "## Summary\n",
    "\n",
    "We built out the condensation process, and the equations that define the process. We also defined the inputs and outputs of the process. Next we will build out coagulation and nucleation processes, to complete the aerosol dynamics framework."
   ]
  }
 ],
 "metadata": {
  "kernelspec": {
   "display_name": "ParticulaDev_py311",
   "language": "python",
   "name": "python3"
  },
  "language_info": {
   "codemirror_mode": {
    "name": "ipython",
    "version": 3
   },
   "file_extension": ".py",
   "mimetype": "text/x-python",
   "name": "python",
   "nbconvert_exporter": "python",
   "pygments_lexer": "ipython3",
   "version": "3.11.8"
  }
 },
 "nbformat": 4,
 "nbformat_minor": 2
}
