{
 "cells": [
  {
   "cell_type": "markdown",
   "metadata": {},
   "source": [
    "# Condensation Tutorial: Moving Bin\n",
    "\n",
    "*Work in progress, probably split into multiple notebooks, need to find a model system to test this on*\n",
    "\n",
    "Condensation, is the first process where this framework we have been building up is applied. Here we need to account for the gas phase, and the particle phase. Then ensure that the partial pressures of species at the surface of the particle are equal to the partial pressure in the gas.\n",
    "\n",
    "### Core Concepts:\n",
    "\n",
    "- **Runnable**: An abstract base class defining the interface for aerosol transformation processes.\n",
    "  - Here and aerosol object is passed to the process, and the process is expected to modify the aerosol object in place, returning the modified object.\n",
    "- **MassCondensation**: A concrete class implementing the RunnableProcess interface for the condensation process. Is an implementation of a `Runnable` process that adds mass to the aerosol object based on the partial pressures of the gas phase and the particle phase. Then removes the mass from the gas phase.\n"
   ]
  },
  {
   "cell_type": "code",
   "execution_count": 1,
   "metadata": {},
   "outputs": [],
   "source": [
    "from copy import copy\n",
    "import numpy as np\n",
    "import matplotlib.pyplot as plt\n",
    "\n",
    "# particula imports\n",
    "from particula.next.particles.representation_builders import (\n",
    "    LimitedRadiusParticleBuilder,\n",
    ")\n",
    "from particula.next.gas.atmosphere_builder import AtmosphereBuilder\n",
    "from particula.next.gas.vapor_pressure_factories import VaporPressureFactory\n",
    "from particula.next.gas.species_builder import GasSpeciesBuilder\n",
    "from particula.next.aerosol import Aerosol\n",
    "from particula.next.dynamics.particle_process import MassCondensation\n",
    "from particula.next.dynamics.condensation import CondensationIsothermal"
   ]
  },
  {
   "cell_type": "markdown",
   "metadata": {},
   "source": [
    "## Aerosol Object\n",
    "\n",
    "First we will repeat the aerosol object that we have been using in the previous notebooks. This object will be passed to the `Runnable` processes `MassCondensation`, and modified in place."
   ]
  },
  {
   "cell_type": "code",
   "execution_count": 2,
   "metadata": {},
   "outputs": [
    {
     "name": "stdout",
     "output_type": "stream",
     "text": [
      "Saturation concentration: 2.54e-03 kg/m^3\n",
      "Particle shape (500,)\n",
      "Gas_species (1,)\n",
      "Particle 1\n",
      "Gas mixture at 298.15 K and 101325.0 Pa consisting of ['Glycerol']\n",
      "7.194243641195577e-08\n"
     ]
    }
   ],
   "source": [
    "# Glycerol gas\n",
    "molar_mass_glycerol = 92.09382e-3  # kg/mol\n",
    "parameters_clausius = {\n",
    "    \"latent_heat\": 71.5 * molar_mass_glycerol,\n",
    "    \"latent_heat_units\": \"kJ/kg\",\n",
    "    \"temperature_initial\": 125.5,\n",
    "    \"temperature_initial_units\": \"degC\",\n",
    "    \"pressure_initial\": 1,\n",
    "    \"pressure_initial_units\": \"mmHg\",\n",
    "}\n",
    "vapor_pressure_strategy = VaporPressureFactory().get_strategy(\n",
    "    \"clausius_clapeyron\", parameters_clausius\n",
    ")\n",
    "\n",
    "sat_concentration = vapor_pressure_strategy.saturation_concentration(\n",
    "    molar_mass_glycerol, 298.15\n",
    ")\n",
    "print(f\"Saturation concentration: {sat_concentration:.2e} kg/m^3\")\n",
    "\n",
    "sat_factor = 0.001  # 50% of saturation concentration\n",
    "glycerol_gas = (\n",
    "    GasSpeciesBuilder()\n",
    "    .set_molar_mass(molar_mass_glycerol, \"kg/mol\")\n",
    "    .set_vapor_pressure_strategy(vapor_pressure_strategy)\n",
    "    .set_concentration(sat_concentration * sat_factor, \"kg/m^3\")\n",
    "    .set_name(\"Glycerol\")\n",
    "    .set_condensable(True)\n",
    "    .build()\n",
    ")\n",
    "\n",
    "atmosphere = (\n",
    "    AtmosphereBuilder()\n",
    "    .add_species(glycerol_gas)\n",
    "    .set_temperature(25, temperature_units=\"degC\")\n",
    "    .set_pressure(1, pressure_units=\"atm\")\n",
    "    .build()\n",
    ")\n",
    "\n",
    "# Glycerol particle distribution\n",
    "bins = np.logspace(-8, -5, 500)\n",
    "lognormal_rep = (\n",
    "    LimitedRadiusParticleBuilder()\n",
    "    .set_mode(np.array([100]), \"nm\")\n",
    "    .set_geometric_standard_deviation(np.array([1.3]))\n",
    "    .set_number_concentration(np.array([1e4]), \"1/cm^3\")\n",
    "    .set_density(1.26, \"g/cm^3\")\n",
    "    .set_distribution_type(\"pmf\")\n",
    "    .set_radius_bins(bins, \"m\")\n",
    "    .build()\n",
    ")\n",
    "\n",
    "print(f\"Particle shape {np.shape(lognormal_rep.distribution)}\")\n",
    "print(f\"Gas_species {np.shape(atmosphere.species)}\")\n",
    "\n",
    "aerosol = Aerosol(atmosphere=atmosphere, particles=lognormal_rep)\n",
    "\n",
    "count = 0\n",
    "for gas_species in aerosol.iterate_particle():\n",
    "    count += 1\n",
    "    print(f\"Particle {count}\")\n",
    "\n",
    "print(aerosol.atmosphere)\n",
    "print(aerosol.particles[0].get_total_mass())"
   ]
  },
  {
   "cell_type": "markdown",
   "metadata": {},
   "source": [
    "## Condensation Process (Isothermal)\n",
    "\n",
    "In code this process is implemented as a `Runnable` process. This means that the process is expected to modify the aerosol object in place, returning the modified aerosol object. This is defined in `Particle_processes.py` as the `MassCondensation` class.\n",
    "\n",
    "The `MassCondensation` class takes a `CondensationStrategy` object as an input. This object defines and evaluates the $dm_{i}/dt$ equation for the condensation process. More strategies can be added into the `condensation.py` file.\n",
    "\n",
    "For now, let's just run it for a few time steps and see what happens.\n",
    "\n",
    "Note: We have a moving bin particle representation, so we would expect all the bins to move."
   ]
  },
  {
   "cell_type": "code",
   "execution_count": 4,
   "metadata": {},
   "outputs": [
    {
     "name": "stdout",
     "output_type": "stream",
     "text": [
      "Glycerol\n",
      "early return\n",
      "Pressure delta shape: (500,)\n",
      "Mass rate shape: (500,)\n",
      "Initial rate shape: (500,)\n",
      "early return\n",
      "Pressure delta shape: (500,)\n",
      "(500,)\n",
      "(500,)\n",
      "(500,)\n"
     ]
    },
    {
     "data": {
      "text/plain": [
       "[<matplotlib.lines.Line2D at 0x2330740fe10>]"
      ]
     },
     "execution_count": 4,
     "metadata": {},
     "output_type": "execute_result"
    },
    {
     "data": {
      "image/png": "[encoded data removed]",
      "text/plain": [
       "<Figure size 800x600 with 1 Axes>"
      ]
     },
     "metadata": {},
     "output_type": "display_data"
    }
   ],
   "source": [
    "# define the condensation process\n",
    "condensation_isothermal = CondensationIsothermal(\n",
    "    molar_mass=molar_mass_glycerol,\n",
    "    diffusion_coefficient=2.0*1e-9,\n",
    "    accommodation_coefficient=0.00005,  #makes things go slower/faster\n",
    ")\n",
    "condensation_process = MassCondensation(condensation_strategy=condensation_isothermal)\n",
    "\n",
    "# define the time array in seconds\n",
    "time_step = 0.01\n",
    "time_array = np.arange(0, 0.1, time_step)\n",
    "total_mass = np.zeros_like(time_array)\n",
    "\n",
    "# output arrays\n",
    "aerosol_sim = []\n",
    "\n",
    "rate = condensation_process.rate(aerosol)\n",
    "\n",
    "# print(f\"Inital rate: {rate[:5]}...\")\n",
    "print(f\"Initial rate shape: {rate.shape}\")\n",
    "\n",
    "fig, ax = plt.subplots(figsize=(8, 6))\n",
    "ax.semilogx(aerosol.particles[0].get_radius()*1e9, aerosol.particles[0].concentration, label=\"Initial\")\n",
    "# singe step\n",
    "aerosol = condensation_process.execute(aerosol, time_step)\n",
    "ax.semilogx(aerosol.particles[0].get_radius()*1e9, aerosol.particles[0].concentration, label=\"After 1 step\")\n",
    "# # second step\n",
    "# aerosol = condensation_process.execute(aerosol, time_step)\n",
    "# ax.semilogx(aerosol.particles[0].get_radius()*1e9, aerosol.particles[0].concentration, label=\"After 2 steps\")\n",
    "# # 5th step\n",
    "# aerosol = condensation_process.execute(aerosol, time_step)\n",
    "# aerosol = condensation_process.execute(aerosol, time_step)\n",
    "# aerosol = condensation_process.execute(aerosol, time_step)\n",
    "# ax.semilogx(aerosol.particles[0].get_radius()*1e9, aerosol.particles[0].concentration, label=\"After 5 steps\")\n",
    "# plt.legend()\n",
    "# ax.set_xlabel(\"Radius (nm)\")\n",
    "# ax.set_ylabel(\"Concentration (1/m^3)\")\n",
    "# plt.show()\n"
   ]
  },
  {
   "cell_type": "markdown",
   "metadata": {},
   "source": [
    "## Summary\n",
    "\n",
    "We built out the condensation process, and the equations that define the process. We also defined the inputs and outputs of the process. Next we will build out coagulation and nucleation processes, to complete the aerosol dynamics framework."
   ]
  }
 ],
 "metadata": {
  "kernelspec": {
   "display_name": "ParticulaDev_py311",
   "language": "python",
   "name": "python3"
  },
  "language_info": {
   "codemirror_mode": {
    "name": "ipython",
    "version": 3
   },
   "file_extension": ".py",
   "mimetype": "text/x-python",
   "name": "python",
   "nbconvert_exporter": "python",
   "pygments_lexer": "ipython3",
   "version": "3.11.8"
  }
 },
 "nbformat": 4,
 "nbformat_minor": 2
}
