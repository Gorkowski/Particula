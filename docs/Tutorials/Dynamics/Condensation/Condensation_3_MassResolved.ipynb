{
 "cells": [
  {
   "cell_type": "markdown",
   "metadata": {},
   "source": [
    "# Condensation Tutorial: Particle Resolved\n",
    "\n",
    "*Work in progress, probably split into multiple notebooks, need to find a model system to test this on*\n",
    "\n",
    "A particle resolved model is a model that tracks the properties of individual particles or collection of particles (e.g., super droplets). This is in contrast to a bulk model, which tracks the properties of the entire aerosol population. The particle resolved model can be more computationally expensive, but can provide more detailed information about the aerosol population.\n",
    "\n",
    "To run this type of model we will need to use a speciated distribution representation. This is so that we can track the properties of individual particles.\n"
   ]
  },
  {
   "cell_type": "code",
   "execution_count": 9,
   "metadata": {},
   "outputs": [],
   "source": [
    "import numpy as np\n",
    "import matplotlib.pyplot as plt\n",
    "\n",
    "# particula imports\n",
    "from particula.next import particles\n",
    "from particula.next.gas.atmosphere_builders import AtmosphereBuilder\n",
    "from particula.next.gas.vapor_pressure_factories import VaporPressureFactory\n",
    "from particula.next.gas.species_builders import GasSpeciesBuilder\n",
    "from particula.next.aerosol import Aerosol\n",
    "from particula.next.dynamics.particle_process import MassCondensation\n",
    "from particula.next.dynamics.condensation import CondensationIsothermal\n",
    "\n",
    "from particula.util.input_handling import convert_units"
   ]
  },
  {
   "cell_type": "markdown",
   "metadata": {},
   "source": [
    "## Aerosol Object\n",
    "\n",
    "First we'll draw from a lognormal distribution to create a set of particles. We'll will then build an aerosol object to represent the aerosol population.\n"
   ]
  },
  {
   "cell_type": "code",
   "execution_count": 10,
   "metadata": {},
   "outputs": [],
   "source": [
    "# Ammonium sulfate and water vapor pressure\n",
    "molar_mass_ammonium_sulfate = 132.14e-3  # kg/mol\n",
    "molar_mass_water = 18.015e-3  # kg/mol\n",
    "parameters_vapor = {\n",
    "    \"vapor_pressure\": 1e-14,\n",
    "}\n",
    "vapor_pressure_ammonium = VaporPressureFactory().get_strategy(\n",
    "    \"constant\", parameters_vapor\n",
    ")\n",
    "vapor_pressure_water = VaporPressureFactory().get_strategy(\n",
    "    \"water_buck\"\n",
    ")\n",
    "\n",
    "water_sat = vapor_pressure_water.saturation_concentration(molar_mass=molar_mass_water, temperature=298.15)\n",
    "water_concentration = water_sat *0.9\n",
    "\n",
    "gas_phase = (\n",
    "    GasSpeciesBuilder()\n",
    "    .set_molar_mass(np.array([molar_mass_water, molar_mass_ammonium_sulfate]), \"kg/mol\")\n",
    "    .set_vapor_pressure_strategy([vapor_pressure_water, vapor_pressure_ammonium])\n",
    "    .set_concentration(np.array([water_concentration, 1e-30]), \"kg/m^3\")\n",
    "    .set_name([\"H2O\", \"NH4HSO4\"])\n",
    "    .set_condensable([True, True])\n",
    "    .build()\n",
    ")\n",
    "\n",
    "atmosphere = (\n",
    "    AtmosphereBuilder()\n",
    "    .add_species(gas_phase)\n",
    "    .set_temperature(25, temperature_units=\"degC\")\n",
    "    .set_pressure(1, pressure_units=\"atm\")\n",
    "    .build()\n",
    ")\n"
   ]
  },
  {
   "cell_type": "markdown",
   "metadata": {},
   "source": [
    "## Sample Distribution\n",
    "\n",
    "Next we'll sample the distribution to get a set of particles. We'll then build an aerosol object to represent the aerosol population."
   ]
  },
  {
   "cell_type": "code",
   "execution_count": 11,
   "metadata": {},
   "outputs": [
    {
     "name": "stdout",
     "output_type": "stream",
     "text": [
      "Inital mass of particles: 7.494683890621076e-13 kg\n",
      "Initial mass concentration: 7.4946838906210744e-06 kg/m^3\n",
      "Gas mixture at 298.15 K and 101325.0 Pa consisting of [\"['H2O', 'NH4HSO4']\"]\n",
      "[0]: Particle Representation:\n",
      "\tStrategy: ParticleResolvedSpeciatedMass\n",
      "\tActivity: ActivityKappaParameter\n",
      "\tSurface: SurfaceStrategyVolume\n",
      "\tMass Concentration: 7.495e-06 [kg/m^3]\n",
      "\tNumber Concentration: 1.000e+12 [#/m^3]\n"
     ]
    },
    {
     "data": {
      "image/png": "[encoded data removed]",
      "text/plain": [
       "<Figure size 800x600 with 1 Axes>"
      ]
     },
     "metadata": {},
     "output_type": "display_data"
    }
   ],
   "source": [
    "density = 1.77e3  # kg/m^3\n",
    "volume_sim = 0.1  # cm^3\n",
    "\n",
    "# Generate a particle distribution using a lognormal sample distribution\n",
    "# This distribution has a mean particle diameter (mode) and geometric standard deviation (GSD)\n",
    "particle_sample = particles.properties.lognormal_sample_distribution(\n",
    "    mode=np.array([100]) * 1e-9,\n",
    "    geometric_standard_deviation=np.array([1.05]),\n",
    "    number_of_particles=np.array([1e3]),\n",
    "    number_of_samples=100_000,  # Number of samples for particle distribution\n",
    ")\n",
    "\n",
    "# Calculate the mass of each particle in the sample, assuming density of 1500 kg/m^3\n",
    "particle_mass = (\n",
    "    4 / 3 * np.pi * particle_sample**3 * density\n",
    ")  # Particle mass in kg\n",
    "\n",
    "print(f\"Inital mass of particles: {np.sum(particle_mass)} kg\")\n",
    "print(f\"Initial mass concentration: {np.sum(particle_mass) / (volume_sim * convert_units('cm^3', 'm^3'))} kg/m^3\")\n",
    "\n",
    "mass_speciation = np.array(\n",
    "    [particle_mass * 0, particle_mass]\n",
    ").T  # water, ammonium sulfate\n",
    "densities = np.array([1000, density])  # kg/m^3\n",
    "\n",
    "# kappa activity\n",
    "activity_strat = (\n",
    "    particles.ActivityKappaParameterBuilder()\n",
    "    .set_density(densities)\n",
    "    .set_kappa(np.array([0.0, 0.61]))\n",
    "    .set_molar_mass(np.array([molar_mass_water, molar_mass_ammonium_sulfate]))\n",
    "    .set_water_index(0)\n",
    "    .build()\n",
    ")\n",
    "\n",
    "surface_strat = (\n",
    "    particles.SurfaceStrategyVolumeBuilder()\n",
    "    .set_density(densities)\n",
    "    .set_surface_tension(np.array([0.072, 0.092]))\n",
    "    .build()\n",
    ")\n",
    "\n",
    "\n",
    "# Build a resolved mass representation for each particle\n",
    "# This defines how particle mass, activity, and surface are represented\n",
    "resolved_masses = (\n",
    "    particles.ResolvedParticleMassRepresentationBuilder()\n",
    "    .set_distribution_strategy(\n",
    "        particles.ParticleResolvedSpeciatedMass()\n",
    "    )  # Use speciated mass distribution\n",
    "    .set_activity_strategy(\n",
    "        activity_strat\n",
    "    )  # Define activity based on ideal mass\n",
    "    .set_surface_strategy(\n",
    "        surface_strat\n",
    "    )  # Define surface area based on particle volume\n",
    "    .set_mass(mass_speciation, \"kg\")  # Assign mass of particles (in kg)\n",
    "    .set_density(densities, \"kg/m^3\")  # Set particle density to 1500 kg/m^3\n",
    "    .set_charge(0)  # Assume neutral particles with no charge\n",
    "    .set_volume(volume_sim, \"cm^3\")  # Set volume of particle distribution\n",
    "    .build()  # Finalize the resolved mass representation\n",
    ")\n",
    "\n",
    "# Create an aerosol object with the defined atmosphere and resolved particles\n",
    "aerosol = Aerosol(atmosphere=atmosphere, particles=resolved_masses)\n",
    "\n",
    "# Print the properties of the atmosphere\n",
    "print(aerosol)\n",
    "\n",
    "\n",
    "# histogram lognormal\n",
    "\n",
    "bins_lognormal = np.logspace(-8, -5, 100)\n",
    "bins, edges = np.histogram(resolved_masses.get_radius(clone=True), bins=bins_lognormal, density=True)\n",
    "\n",
    "# plot\n",
    "\n",
    "fig, ax = plt.subplots(figsize=(8, 6))\n",
    "\n",
    "ax.bar(edges[:-1], bins, width=np.diff(edges), align=\"edge\")\n",
    "ax.set_xscale(\"log\")\n",
    "\n",
    "ax.set_xlabel(\"Radius (m)\")\n",
    "ax.set_ylabel(\"Count\")\n",
    "plt.show()"
   ]
  },
  {
   "cell_type": "markdown",
   "metadata": {},
   "source": [
    "## Condensation Process\n",
    "\n",
    "Using the same iso thermal condensation process as in the bulk model, we'll update the properties of the particles in the aerosol object. In this cas we will change the water saturation ratio to be 80% and simulate the condensation process."
   ]
  },
  {
   "cell_type": "code",
   "execution_count": 12,
   "metadata": {},
   "outputs": [
    {
     "name": "stdout",
     "output_type": "stream",
     "text": [
      "Inital rate: [ 4.07480666e-18 -2.66371444e-34  4.26635414e-18 -2.77734074e-34\n",
      "  4.40611662e-18]...\n",
      "Gas mixture at 298.15 K and 101325.0 Pa consisting of [\"['H2O', 'NH4HSO4']\"]\n",
      "[0]: Particle Representation:\n",
      "\tStrategy: ParticleResolvedSpeciatedMass\n",
      "\tActivity: ActivityKappaParameter\n",
      "\tSurface: SurfaceStrategyVolume\n",
      "\tMass Concentration: 7.495e-06 [kg/m^3]\n",
      "\tNumber Concentration: 1.000e+12 [#/m^3]\n",
      "Gas mixture at 298.15 K and 101325.0 Pa consisting of [\"['H2O', 'NH4HSO4']\"]\n",
      "[0]: Particle Representation:\n",
      "\tStrategy: ParticleResolvedSpeciatedMass\n",
      "\tActivity: ActivityKappaParameter\n",
      "\tSurface: SurfaceStrategyVolume\n",
      "\tMass Concentration: 7.495e-06 [kg/m^3]\n",
      "\tNumber Concentration: 1.000e+12 [#/m^3]\n"
     ]
    },
    {
     "data": {
      "image/png": "[encoded data removed]",
      "text/plain": [
       "<Figure size 800x600 with 1 Axes>"
      ]
     },
     "metadata": {},
     "output_type": "display_data"
    }
   ],
   "source": [
    "# define the condensation process\n",
    "condensation_isothermal = CondensationIsothermal(\n",
    "    molar_mass=np.array([molar_mass_water, molar_mass_ammonium_sulfate]),  # kg/mol\n",
    "    diffusion_coefficient=2.0*1e-9,\n",
    "    accommodation_coefficient=0.1,  #makes things go slower/faster\n",
    "    update_gases=False  # Fixed gas concentration\n",
    ")\n",
    "condensation_process = MassCondensation(condensation_strategy=condensation_isothermal)\n",
    "\n",
    "# define the time array in seconds\n",
    "time_step = 10000\n",
    "sub_steps = 100\n",
    "\n",
    "\n",
    "# output arrays\n",
    "\n",
    "rate = condensation_process.rate(aerosol)\n",
    "print(f\"Inital rate: {rate[:5]}...\")\n",
    "\n",
    "# fig, ax = plt.subplots(figsize=(8, 6))\n",
    "# bins, edges = np.histogram(\n",
    "#     aerosol.particles[0].get_radius(), bins=bins_lognormal\n",
    "# )\n",
    "print(aerosol)\n",
    "particle_initial = aerosol.particles[0].get_radius(clone=True)\n",
    "aerosol = condensation_process.execute(aerosol, time_step, sub_steps)\n",
    "\n",
    "particle_step1 = aerosol.particles[0].get_radius(clone=True)\n",
    "print(aerosol)\n",
    "\n",
    "\n",
    "fig, ax = plt.subplots(figsize=(8, 6))\n",
    "ax.hist(particle_initial, bins=20, alpha=0.5, label=\"Initial\")\n",
    "ax.hist(particle_step1, bins=20, alpha=0.5, label=\"After 1 step\")\n",
    "ax.set_xscale(\"log\")\n",
    "# ax.set_yscale(\"log\")\n",
    "ax.set_xlabel(\"Radius (m)\")\n",
    "ax.set_ylabel(\"Count\")\n",
    "ax.legend()\n",
    "plt.show()\n",
    "\n",
    "# ax.bar(edges[:-1], bins, width=np.diff(edges), align=\"edge\", label=\"Initial\")\n",
    "\n",
    "# # one step\n",
    "# aerosol = condensation_process.execute(aerosol, time_step)\n",
    "# bins, edges = np.histogram(\n",
    "#     aerosol.particles[0].get_radius(), bins=bins_lognormal\n",
    "# )\n",
    "\n",
    "# ax.bar(edges[:-1], bins, width=np.diff(edges), align=\"edge\", label=\"After 1 step\", alpha=0.8)\n",
    "\n",
    "# # 10 seconds\n",
    "# aerosol = condensation_process.execute(aerosol, 1)\n",
    "# bins, edges = np.histogram(\n",
    "#     aerosol.particles[0].get_radius(), bins=bins_lognormal\n",
    "# )\n",
    "# ax.bar(edges[:-1], bins, width=np.diff(edges), align=\"edge\", label=\"After 2 steps\", alpha=0.7)\n",
    "\n",
    "\n",
    "# ax.set_xscale(\"log\")\n",
    "# # ax.set_yscale(\"log\")\n",
    "# plt.legend()\n",
    "# ax.set_xlabel(\"Radius (m)\")\n",
    "# ax.set_ylabel(\"Concentration (1/m^3)\")\n",
    "# plt.show()"
   ]
  },
  {
   "cell_type": "markdown",
   "metadata": {},
   "source": [
    "## Small Particles Grow Faster\n",
    "\n",
    "We can see from the previous example that the smaller particles grow faster than the larger particles. This is because the smaller particles have a higher surface area to volume ratio, which means they can take up more water.\n",
    "\n",
    "However, that"
   ]
  },
  {
   "cell_type": "markdown",
   "metadata": {},
   "source": [
    "## Summary\n",
    "\n",
    "We built out the condensation process, and the equations that define the process. We also defined the inputs and outputs of the process. Next we will build out coagulation and nucleation processes, to complete the aerosol dynamics framework."
   ]
  }
 ],
 "metadata": {
  "kernelspec": {
   "display_name": "ParticulaDev_py311",
   "language": "python",
   "name": "python3"
  },
  "language_info": {
   "codemirror_mode": {
    "name": "ipython",
    "version": 3
   },
   "file_extension": ".py",
   "mimetype": "text/x-python",
   "name": "python",
   "nbconvert_exporter": "python",
   "pygments_lexer": "ipython3",
   "version": "3.11.8"
  }
 },
 "nbformat": 4,
 "nbformat_minor": 2
}
