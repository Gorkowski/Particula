{
 "cells": [
  {
   "cell_type": "markdown",
   "metadata": {},
   "source": [
    "# Condensation Tutorial: Mass Binned\n",
    "\n",
    "*Work in progress, probably split into multiple notebooks, need to find a model system to test this on*\n",
    "\n",
    "A particle resolved model is a model that tracks the properties of individual particles or collection of particles (e.g., super droplets). This is in contrast to a bulk model, which tracks the properties of the entire aerosol population. The particle resolved model can be more computationally expensive, but can provide more detailed information about the aerosol population.\n",
    "\n",
    "To run this type of model we will need to use a speciated distribution representation. This is so that we can track the properties of individual particles.\n"
   ]
  },
  {
   "cell_type": "code",
   "execution_count": 1,
   "metadata": {},
   "outputs": [],
   "source": [
    "import numpy as np\n",
    "import matplotlib.pyplot as plt\n",
    "\n",
    "# particula imports\n",
    "from particula.next import particles\n",
    "from particula.next.gas.atmosphere_builders import AtmosphereBuilder\n",
    "from particula.next.gas.vapor_pressure_factories import VaporPressureFactory\n",
    "from particula.next.gas.species_builders import GasSpeciesBuilder\n",
    "from particula.next.aerosol import Aerosol\n",
    "from particula.next.dynamics.particle_process import MassCondensation\n",
    "from particula.next.dynamics.condensation import CondensationIsothermal"
   ]
  },
  {
   "cell_type": "markdown",
   "metadata": {},
   "source": [
    "## Aerosol Object\n",
    "\n",
    "First we'll draw from a lognormal distribution to create a set of particles. We'll will then build an aerosol object to represent the aerosol population.\n"
   ]
  },
  {
   "cell_type": "code",
   "execution_count": 2,
   "metadata": {},
   "outputs": [],
   "source": [
    "# Ammonium sulfate and water vapor pressure\n",
    "molar_mass_ammonium_sulfate = 132.14e-3  # kg/mol\n",
    "molar_mass_water = 18.015e-3  # kg/mol\n",
    "parameters_vapor = {\n",
    "    \"vapor_pressure\": 1e-10,\n",
    "}\n",
    "vapor_pressure_ammonium = VaporPressureFactory().get_strategy(\n",
    "    \"constant\", parameters_vapor\n",
    ")\n",
    "vapor_pressure_water = VaporPressureFactory().get_strategy(\n",
    "    \"water_buck\"\n",
    ")\n",
    "\n",
    "water_sat = vapor_pressure_water.saturation_concentration(molar_mass=molar_mass_water, temperature=298.15)\n",
    "water_concentration = 0.8 * water_sat\n",
    "\n",
    "glycerol_gas = (\n",
    "    GasSpeciesBuilder()\n",
    "    .set_molar_mass(np.array([molar_mass_water, molar_mass_ammonium_sulfate]), \"kg/mol\")\n",
    "    .set_vapor_pressure_strategy([vapor_pressure_water, vapor_pressure_ammonium])\n",
    "    .set_concentration(np.array([water_concentration, 0.0]), \"kg/m^3\")\n",
    "    .set_name([\"H2O\", \"NH4HSO4\"])\n",
    "    .set_condensable([True, True])\n",
    "    .build()\n",
    ")\n",
    "\n",
    "atmosphere = (\n",
    "    AtmosphereBuilder()\n",
    "    .add_species(glycerol_gas)\n",
    "    .set_temperature(25, temperature_units=\"degC\")\n",
    "    .set_pressure(1, pressure_units=\"atm\")\n",
    "    .build()\n",
    ")\n",
    "\n",
    "\n"
   ]
  },
  {
   "cell_type": "markdown",
   "metadata": {},
   "source": [
    "## Sample Distribution\n",
    "\n",
    "Next we'll sample the distribution to get a set of particles. We'll then build an aerosol object to represent the aerosol population."
   ]
  },
  {
   "cell_type": "code",
   "execution_count": 3,
   "metadata": {},
   "outputs": [
    {
     "data": {
      "image/png": "[encoded data removed]",
      "text/plain": [
       "<Figure size 800x600 with 1 Axes>"
      ]
     },
     "metadata": {},
     "output_type": "display_data"
    }
   ],
   "source": [
    "# sample\n",
    "particles_sample = particles.properties.lognormal_sample_distribution(\n",
    "    mode=np.array([100, 1000])*1e-9,\n",
    "    geometric_standard_deviation=np.array([1.3, 1.5]),\n",
    "    number_of_particles=np.array([1e3, 1e2]),\n",
    "    number_of_samples=1000,\n",
    ")\n",
    "\n",
    "# histogram lognormal\n",
    "bins_lognormal = np.logspace(-8, -5, 100)\n",
    "bins, edges = np.histogram(particles_sample, bins=bins_lognormal, density=True)\n",
    "# plot\n",
    "fig, ax = plt.subplots(figsize=(8, 6))\n",
    "ax.bar(edges[:-1], bins, width=np.diff(edges), align=\"edge\")\n",
    "ax.set_xscale(\"log\")\n",
    "ax.set_xlabel(\"Diameter (m)\")\n",
    "ax.set_ylabel(\"Count\")\n",
    "plt.show()"
   ]
  },
  {
   "cell_type": "code",
   "execution_count": 4,
   "metadata": {},
   "outputs": [
    {
     "name": "stdout",
     "output_type": "stream",
     "text": [
      "(1000, 2)\n",
      "concentration shape: (1000,)\n",
      "Gas mixture at 298.15 K and 101325.0 Pa consisting of [\"['H2O', 'NH4HSO4']\"]\n",
      "[0]: Particle Representation:\n",
      "\tStrategy: SpeciatedMassMovingBin\n",
      "\tActivity: ActivityKappaParameter\n",
      "\tSurface: SurfaceStrategyVolume\n",
      "\tMass Concentration: 9.003e-06 [kg/m^3]\n"
     ]
    }
   ],
   "source": [
    "# particle radis to mass\n",
    "density = 1.26e3  # kg/m^3\n",
    "particle_mass = density * 4 / 3 * np.pi * particles_sample ** 3\n",
    "mass_speciation = np.array([particle_mass*0, particle_mass]).T  # water, ammonium sulfate\n",
    "concentration = np.ones_like(particles_sample) * 1e1\n",
    "densities = np.array([1000, 1.26e3])  # kg/m^3\n",
    "\n",
    "print(mass_speciation.shape)\n",
    "\n",
    "activity_strat = (\n",
    "    particles.ActivityKappaParameterBuilder()\n",
    "    .set_density(densities)\n",
    "    .set_kappa(np.array([0.0, 0.61]))\n",
    "    .set_molar_mass(np.array([molar_mass_water, molar_mass_ammonium_sulfate]))\n",
    "    .set_water_index(0)\n",
    "    .build()\n",
    ")\n",
    "\n",
    "surface_strat = (\n",
    "    particles.SurfaceStrategyVolumeBuilder()\n",
    "    .set_density(densities)\n",
    "    .set_surface_tension(np.array([0.072, 0.092]))\n",
    "    .build()\n",
    ")\n",
    "\n",
    "paritcle_rep = (\n",
    "    particles.ParticleMassRepresentationBuilder()\n",
    "    .set_distribution_strategy(particles.SpeciatedMassMovingBinBuilder().build())\n",
    "    .set_surface_strategy(surface_strat)\n",
    "    .set_activity_strategy(activity_strat)\n",
    "    .set_density(densities)\n",
    "    .set_charge(0.0)\n",
    "    .set_mass(mass_speciation)\n",
    "    .set_concentration(concentration, \"1/cm^3\")\n",
    "    .build()\n",
    ")\n",
    "\n",
    "aerosol = Aerosol(atmosphere=atmosphere, particles=paritcle_rep)\n",
    "\n",
    "print(aerosol)"
   ]
  },
  {
   "cell_type": "markdown",
   "metadata": {},
   "source": [
    "## Condensation Process\n",
    "\n",
    "Using the same iso thermal condensation process as in the bulk model, we'll update the properties of the particles in the aerosol object. In this cas we will change the water saturation ratio to be 80% and simulate the condensation process."
   ]
  },
  {
   "cell_type": "code",
   "execution_count": 5,
   "metadata": {},
   "outputs": [
    {
     "name": "stdout",
     "output_type": "stream",
     "text": [
      "Inital rate: [ 3.60436821e-11 -1.42301511e-28  3.80092562e-11 -1.62094050e-28\n",
      "  2.24282088e-11]...\n",
      "concentration shape: (1000,)\n",
      "Gas mixture at 298.15 K and 101325.0 Pa consisting of [\"['H2O', 'NH4HSO4']\"]\n",
      "[0]: Particle Representation:\n",
      "\tStrategy: SpeciatedMassMovingBin\n",
      "\tActivity: ActivityKappaParameter\n",
      "\tSurface: SurfaceStrategyVolume\n",
      "\tMass Concentration: 9.003e-06 [kg/m^3]\n",
      "concentration shape: (1000,)\n",
      "Gas mixture at 298.15 K and 101325.0 Pa consisting of [\"['H2O', 'NH4HSO4']\"]\n",
      "[0]: Particle Representation:\n",
      "\tStrategy: SpeciatedMassMovingBin\n",
      "\tActivity: ActivityKappaParameter\n",
      "\tSurface: SurfaceStrategyVolume\n",
      "\tMass Concentration: 9.141e-06 [kg/m^3]\n",
      "concentration shape: (1000,)\n",
      "Gas mixture at 298.15 K and 101325.0 Pa consisting of [\"['H2O', 'NH4HSO4']\"]\n",
      "[0]: Particle Representation:\n",
      "\tStrategy: SpeciatedMassMovingBin\n",
      "\tActivity: ActivityKappaParameter\n",
      "\tSurface: SurfaceStrategyVolume\n",
      "\tMass Concentration: 9.428e-06 [kg/m^3]\n"
     ]
    },
    {
     "data": {
      "image/png": "[encoded data removed]",
      "text/plain": [
       "<Figure size 800x600 with 1 Axes>"
      ]
     },
     "metadata": {},
     "output_type": "display_data"
    }
   ],
   "source": [
    "# define the condensation process\n",
    "condensation_isothermal = CondensationIsothermal(\n",
    "    molar_mass=np.array([molar_mass_water, molar_mass_ammonium_sulfate]),  # kg/mol\n",
    "    diffusion_coefficient=2.0*1e-9,\n",
    "    accommodation_coefficient=0.1,  #makes things go slower/faster\n",
    ")\n",
    "condensation_process = MassCondensation(condensation_strategy=condensation_isothermal)\n",
    "\n",
    "# define the time array in seconds\n",
    "time_step = 0.5\n",
    "time_array = np.arange(0, 5, time_step)\n",
    "total_mass = np.zeros_like(time_array)\n",
    "\n",
    "# output arrays\n",
    "aerosol_sim = []\n",
    "\n",
    "rate = condensation_process.rate(aerosol)\n",
    "print(f\"Inital rate: {rate[:5]}...\")\n",
    "\n",
    "fig, ax = plt.subplots(figsize=(8, 6))\n",
    "bins, edges = np.histogram(\n",
    "    aerosol.particles[0].get_radius(), bins=bins_lognormal\n",
    ")\n",
    "ax.bar(edges[:-1], bins, width=np.diff(edges), align=\"edge\", label=\"Initial\")\n",
    "\n",
    "print(aerosol)\n",
    "# one step\n",
    "aerosol = condensation_process.execute(aerosol, time_step)\n",
    "bins, edges = np.histogram(\n",
    "    aerosol.particles[0].get_radius(), bins=bins_lognormal\n",
    ")\n",
    "ax.bar(edges[:-1], bins, width=np.diff(edges), align=\"edge\", label=\"After 1 step\", alpha=0.8)\n",
    "\n",
    "print(aerosol)\n",
    "# 10 seconds\n",
    "aerosol = condensation_process.execute(aerosol, 1)\n",
    "bins, edges = np.histogram(\n",
    "    aerosol.particles[0].get_radius(), bins=bins_lognormal\n",
    ")\n",
    "ax.bar(edges[:-1], bins, width=np.diff(edges), align=\"edge\", label=\"After 2 steps\", alpha=0.7)\n",
    "print(aerosol)\n",
    "\n",
    "ax.set_xscale(\"log\")\n",
    "# ax.set_yscale(\"log\")\n",
    "plt.legend()\n",
    "ax.set_xlabel(\"Radius (m)\")\n",
    "ax.set_ylabel(\"Concentration (1/m^3)\")\n",
    "plt.show()"
   ]
  },
  {
   "cell_type": "markdown",
   "metadata": {},
   "source": [
    "## Small Particles Grow Faster\n",
    "\n",
    "We can see from the previous example that the smaller particles grow faster than the larger particles. This is because the smaller particles have a higher surface area to volume ratio, which means they can take up more water.\n",
    "\n",
    "However, that"
   ]
  },
  {
   "cell_type": "markdown",
   "metadata": {},
   "source": [
    "## Summary\n",
    "\n",
    "We built out the condensation process, and the equations that define the process. We also defined the inputs and outputs of the process. Next we will build out coagulation and nucleation processes, to complete the aerosol dynamics framework."
   ]
  }
 ],
 "metadata": {
  "kernelspec": {
   "display_name": "ParticulaDev_py311",
   "language": "python",
   "name": "python3"
  },
  "language_info": {
   "codemirror_mode": {
    "name": "ipython",
    "version": 3
   },
   "file_extension": ".py",
   "mimetype": "text/x-python",
   "name": "python",
   "nbconvert_exporter": "python",
   "pygments_lexer": "ipython3",
   "version": "3.11.8"
  }
 },
 "nbformat": 4,
 "nbformat_minor": 2
}
