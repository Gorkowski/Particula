{
 "cells": [
  {
   "cell_type": "markdown",
   "metadata": {},
   "source": [
    "# Coagulation Patterns: Particle-Resolved Approach\n",
    "\n",
    "In this notebook, we explore coagulation patterns through a particle-resolved approach. Rather than directly invoking coagulation functions for each calculation, we adopt a more modular and object-oriented programming structure. By employing design patterns, such as the `Builder` pattern, we simplify the setup and validation of parameters, making the process more maintainable and scalable.\n",
    "\n",
    "This approach allows for the efficient management of both the gas phase and the particle distribution, incorporating the verification of input parameters for accuracy and consistency. The `Builder` classes facilitate setting up the coagulation environment, from defining the atmospheric conditions to creating particle distributions and specifying their resolved masses.\n",
    "\n",
    "In this example, we preset a non-condensing gas species in the atmosphere and use a lognormal distribution for particles. We represent the particles using a particle-resolved mass framework, where we handle properties like density, charge, and mass with strategies to define the activity, surface area, and distribution.\n",
    "\n",
    "**Imports**"
   ]
  },
  {
   "cell_type": "code",
   "execution_count": 9,
   "metadata": {},
   "outputs": [],
   "source": [
    "import numpy as np\n",
    "import matplotlib.pyplot as plt\n",
    "\n",
    "# particula imports\n",
    "from particula.next import particles\n",
    "from particula.next.aerosol import Aerosol\n",
    "\n",
    "from particula.next.gas.species_builders import PresetGasSpeciesBuilder\n",
    "from particula.next.gas.atmosphere_builders import AtmosphereBuilder\n",
    "\n",
    "from particula.next.dynamics import particle_process\n",
    "from particula.next.dynamics import coagulation"
   ]
  },
  {
   "cell_type": "markdown",
   "metadata": {},
   "source": [
    "## Aerosol Setup\n",
    "\n",
    "In this section, we define the core components of our particle-resolved coagulation system, focusing on the atmosphere setup, particle distribution, and mass resolution. This step-by-step breakdown helps clarify how the `Builder` pattern organizes the construction of complex objects and ensures input parameters are properly verified.\n",
    "\n",
    "**Atmospheric Setup**\n",
    "We begin by configuring the atmosphere using the `AtmosphereBuilder`. This allows for flexibility in defining environmental parameters such as temperature and pressure, as well as adding gas species. In this case, we add a preset gas species that does not condense and set the atmospheric conditions to 25°C and 1 atm.\n",
    "\n",
    "**Particle Distribution**\n",
    "The particle distribution is generated using a lognormal distribution, a common approach for representing aerosol particle sizes. The parameters for this distribution include:\n",
    "- A mode of 100 nm, representing the mean particle diameter.\n",
    "- A geometric standard deviation (GSD) of 1.3, which controls the spread of particle sizes.\n",
    "- The total number of particles is 100,000 samples taken to capture the variability of the distribution.\n",
    "\n",
    "**Mass Calculation**\n",
    "The mass of each particle is calculated assuming a particle density of 1500 kg/m³. This density corresponds to typical aerosol materials like dust or certain types of particulate matter. The particle masses are computed using the formula for the volume of a sphere, multiplied by the density.\n",
    "\n",
    "**Resolved Particle Mass Representation**\n",
    "To capture the diversity of the aerosol population, we use a particle-resolved representation for mass. This approach explicitly tracks individual particle masses and assigns properties such as density and charge. The key strategies used are:\n",
    "- **Distribution strategy**: Defines how mass is distributed among particles.\n",
    "- **Activity strategy**: Describes how the activity of the particles is represented, in this case, assuming ideal mass behavior.\n",
    "- **Surface strategy**: Calculates particle surface behavior by volume mixing.\n",
    "\n",
    "**Final Aerosol Object**\n",
    "The `Aerosol` object brings together the atmosphere and the resolved particle masses into a cohesive framework. This encapsulated representation can then be used to simulate particle interactions and coagulation events within the atmosphere.\n",
    "\n",
    "Finally, we print the properties of the `aerosol` object’s atmosphere to verify the correct setup."
   ]
  },
  {
   "cell_type": "code",
   "execution_count": 10,
   "metadata": {},
   "outputs": [
    {
     "name": "stdout",
     "output_type": "stream",
     "text": [
      "Gas mixture at 298.15 K and 101325.0 Pa consisting of ['Preset100']\n"
     ]
    }
   ],
   "source": [
    "# Preset gas species that does not condense in the atmosphere\n",
    "# AtmosphereBuilder constructs the atmosphere with predefined species\n",
    "atmosphere = (\n",
    "    AtmosphereBuilder()\n",
    "    .add_species(PresetGasSpeciesBuilder().build())  # Add a preset gas species\n",
    "    .set_temperature(25, temperature_units=\"degC\")  # Set temperature to 25°C\n",
    "    .set_pressure(1, pressure_units=\"atm\")  # Set pressure to 1 atmosphere\n",
    "    .build()  # Finalize the atmosphere object\n",
    ")\n",
    "\n",
    "# Generate a particle distribution using a lognormal sample distribution\n",
    "# This distribution has a mean particle diameter (mode) and geometric standard deviation (GSD)\n",
    "particle_sample = particles.properties.lognormal_sample_distribution(\n",
    "    mode=np.array([100e-9]),  # Mean particle diameter of 100 nm\n",
    "    geometric_standard_deviation=np.array([1.3]),  # GSD of 1.3\n",
    "    number_of_particles=np.array([1e4]),  # Total number of particles\n",
    "    number_of_samples=100_000,  # Number of samples for particle distribution\n",
    ")\n",
    "\n",
    "# Calculate the mass of each particle in the sample, assuming density of 1500 kg/m^3\n",
    "particle_mass_sample = (\n",
    "    4 / 3 * np.pi * particle_sample**3 * 1500\n",
    ")  # Particle mass in kg\n",
    "\n",
    "# Build a resolved mass representation for each particle\n",
    "# This defines how particle mass, activity, and surface are represented\n",
    "resolved_masses = (\n",
    "    particles.ResolvedParticleMassRepresentationBuilder()\n",
    "    .set_distribution_strategy(particles.ParticleResolvedSpeciatedMass())  # Use speciated mass distribution\n",
    "    .set_activity_strategy(particles.ActivityIdealMass())  # Define activity based on ideal mass\n",
    "    .set_surface_strategy(particles.SurfaceStrategyVolume())  # Define surface area based on particle volume\n",
    "    .set_mass(particle_mass_sample, \"kg\")  # Assign mass of particles (in kg)\n",
    "    .set_density(1500, \"kg/m^3\")  # Set particle density to 1500 kg/m^3\n",
    "    .set_charge(0)  # Assume neutral particles with no charge\n",
    "    .set_volume(0.1, \"cm^3\")  # Set volume of particle distribution\n",
    "    .build()  # Finalize the resolved mass representation\n",
    ")\n",
    "\n",
    "# Create an aerosol object with the defined atmosphere and resolved particles\n",
    "aerosol = Aerosol(atmosphere=atmosphere, particles=resolved_masses)\n",
    "\n",
    "# Print the properties of the atmosphere\n",
    "print(aerosol.atmosphere)"
   ]
  },
  {
   "cell_type": "markdown",
   "metadata": {},
   "source": [
    "## Simulation\n",
    "\n",
    "In this section, we run the coagulation simulation by first defining the coagulation strategy and the process through which it is executed.\n",
    "\n",
    "- **Coagulation Strategy:** The strategy for how coagulation is performed is selected using `coagulation.ParticleResolved()`. This specific strategy dictates how particle interactions are handled at the individual particle level, ensuring that the coagulation process respects the details of a particle-resolved approach. In this context, particles are treated as distinct entities, and the merging process is computed explicitly for each pair that interacts.\n",
    "\n",
    "- **Particle Process:** Once the strategy is defined, the `Coagulation` process is initialized by passing the chosen strategy (`coagulation_strategy`) to the `particle_process.Coagulation` class. This `Coagulation` class is responsible for running the actual simulation. It orchestrates the execution of coagulation by applying the selected strategy over the particle distribution. During each execution step, the particle properties—such as mass, size, and count—are updated according to the rules defined by the particle-resolved strategy.\n",
    "\n",
    "- **Execution of the Process:** The coagulation process is applied in steps using the `coagulation_process.execute()` method. In each step, the particles' masses are updated based on the time step and sub-steps provided. The time step controls the temporal resolution of the simulation, while the sub-steps break the time step into finer increments to ensure accurate resolution of coagulation events.\n",
    "\n",
    "For each step:\n",
    "\n",
    "1. The radii of particles are obtained before and after the coagulation step.\n",
    "2. The updated particle properties, such as radius and mass, are recorded.\n",
    "3. After the final step, we count the number of particles that have fully coagulated, i.e., those that have a mass of zero."
   ]
  },
  {
   "cell_type": "code",
   "execution_count": 11,
   "metadata": {},
   "outputs": [
    {
     "name": "stdout",
     "output_type": "stream",
     "text": [
      "Particles that coagulated: 36538\n"
     ]
    }
   ],
   "source": [
    "# Define the coagulation strategy and process\n",
    "coagulation_strategy = coagulation.ParticleResolved()\n",
    "coagulation_process = particle_process.Coagulation(\n",
    "    coagulation_strategy=coagulation_strategy\n",
    ")\n",
    "\n",
    "# Set up time and sub-steps for the coagulation process\n",
    "time_step = 1000\n",
    "sub_steps = 100\n",
    "\n",
    "# Define lognormal bins for particle radius histogram\n",
    "bins_lognormal = np.logspace(-8, -6, 100)\n",
    "\n",
    "# Get initial particle radii before the coagulation process\n",
    "initial_radii = aerosol.particles[0].get_radius()\n",
    "\n",
    "# Perform coagulation process for step 1\n",
    "aerosol = coagulation_process.execute(\n",
    "    aerosol, time_step=time_step, sub_steps=sub_steps\n",
    ")\n",
    "radii_after_step_1 = aerosol.particles[0].get_radius()\n",
    "\n",
    "# Perform coagulation process for step 2\n",
    "aerosol = coagulation_process.execute(\n",
    "    aerosol, time_step=time_step, sub_steps=sub_steps\n",
    ")\n",
    "radii_after_step_2 = aerosol.particles[0].get_radius()\n",
    "\n",
    "# Count particles that have coagulated (i.e., have zero mass)\n",
    "zero_count = np.sum(aerosol.particles[0].get_mass() == 0)\n",
    "print(f\"Particles that coagulated: {zero_count}\")"
   ]
  },
  {
   "cell_type": "markdown",
   "metadata": {},
   "source": [
    "## Graphing\n",
    "\n",
    "In this section, we visualize the evolution of the particle size distribution as the coagulation process progresses.\n",
    "\n",
    "- We use a histogram to show the distribution of particle radii at three stages: initially, after step 1, and after step 2.\n",
    "- The x-axis is scaled logarithmically to properly represent the range of particle sizes, which can span multiple orders of magnitude.\n",
    "- The plot helps illustrate the effect of coagulation, where particles merge over time, shifting the distribution towards larger sizes and reducing the number of smaller particles.\n",
    "\n",
    "This visual representation provides an intuitive understanding of how the coagulation process influences particle sizes, which is key to understanding aerosol dynamics in various atmospheric conditions."
   ]
  },
  {
   "cell_type": "code",
   "execution_count": 12,
   "metadata": {},
   "outputs": [
    {
     "data": {
      "image/png": "[encoded data removed]",
      "text/plain": [
       "<Figure size 800x600 with 1 Axes>"
      ]
     },
     "metadata": {},
     "output_type": "display_data"
    }
   ],
   "source": [
    "# Create figure for visualizing the histogram of particle radii\n",
    "fig, ax = plt.subplots(figsize=(8, 6))\n",
    "\n",
    "# Plot initial radii distribution\n",
    "bins, edges = np.histogram(initial_radii, bins=bins_lognormal)\n",
    "ax.bar(edges[:-1], bins, width=np.diff(edges), align=\"edge\", label=\"Initial\")\n",
    "\n",
    "# Plot radii distribution after step 1\n",
    "bins, edges = np.histogram(radii_after_step_1, bins=bins_lognormal)\n",
    "ax.bar(\n",
    "    edges[:-1],\n",
    "    bins,\n",
    "    width=np.diff(edges),\n",
    "    align=\"edge\",\n",
    "    label=\"After 1 step\",\n",
    "    alpha=0.7,\n",
    ")\n",
    "\n",
    "# Plot radii distribution after step 2\n",
    "bins, edges = np.histogram(radii_after_step_2, bins=bins_lognormal)\n",
    "ax.bar(\n",
    "    edges[:-1],\n",
    "    bins,\n",
    "    width=np.diff(edges),\n",
    "    align=\"edge\",\n",
    "    label=\"After 2 steps\",\n",
    "    alpha=0.6,\n",
    ")\n",
    "\n",
    "# Set axes to logarithmic scale for x-axis (particle radius)\n",
    "ax.set_xscale(\"log\")\n",
    "\n",
    "# Add labels and legend\n",
    "ax.set_xlabel(\"Radius (m)\")\n",
    "ax.set_ylabel(\"Number of particles\")\n",
    "plt.legend()\n",
    "\n",
    "# Show the plot\n",
    "plt.show()"
   ]
  },
  {
   "cell_type": "markdown",
   "metadata": {},
   "source": [
    "## Conclusion\n",
    "\n",
    "In this notebook, we have demonstrated a particle-resolved approach to modeling coagulation patterns in aerosol systems. By leveraging the `Builder` pattern and modular design, we have created a flexible and extensible framework for simulating particle interactions and tracking their properties over time."
   ]
  }
 ],
 "metadata": {
  "kernelspec": {
   "display_name": "ParticulaDev_py311",
   "language": "python",
   "name": "python3"
  },
  "language_info": {
   "codemirror_mode": {
    "name": "ipython",
    "version": 3
   },
   "file_extension": ".py",
   "mimetype": "text/x-python",
   "name": "python",
   "nbconvert_exporter": "python",
   "pygments_lexer": "ipython3",
   "version": "3.11.8"
  }
 },
 "nbformat": 4,
 "nbformat_minor": 2
}
