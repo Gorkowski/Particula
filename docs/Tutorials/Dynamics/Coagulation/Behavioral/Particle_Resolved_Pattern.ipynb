{
 "cells": [
  {
   "cell_type": "code",
   "execution_count": null,
   "metadata": {},
   "outputs": [],
   "source": [
    "\n",
    "from copy import copy\n",
    "import numpy as np\n",
    "import matplotlib.pyplot as plt\n",
    "\n",
    "# particula imports\n",
    "from particula.next.particles.representation_builders import (\n",
    "    MassParticleRepresentationBuilder,\n",
    ")\n",
    "from particula.next.particles.distribution_builders import SpeciatedMassMovingBinBuilder\n",
    "from particula.next.gas.atmosphere_builder import AtmosphereBuilder\n",
    "from particula.next.gas.vapor_pressure_factories import VaporPressureFactory\n",
    "from particula.next.gas.species_builder import GasSpeciesBuilder\n",
    "from particula.next.aerosol import Aerosol\n",
    "from particula.next.dynamics.particle_process import MassCondensation\n",
    "from particula.next.dynamics.condensation import CondensationIsothermal\n",
    "from particula.next.particles.activity_builders import KappaParameterActivityBuilder\n",
    "from particula.next.particles.surface_builders import SurfaceStrategyVolumeBuilder\n",
    "from particula.next.particles.properties.lognormal_size_distribution import lognormal_sample_distribution"
   ]
  }
 ],
 "metadata": {
  "language_info": {
   "name": "python"
  }
 },
 "nbformat": 4,
 "nbformat_minor": 2
}
