{
 "cells": [
  {
   "cell_type": "code",
   "execution_count": 43,
   "metadata": {},
   "outputs": [],
   "source": [
    "\n",
    "from copy import copy\n",
    "import numpy as np\n",
    "import matplotlib.pyplot as plt\n",
    "\n",
    "# particula imports\n",
    "from particula.next.particles.representation_builders import (\n",
    "    ResolvedParticleMassRepresentationBuilder,\n",
    ")\n",
    "from particula.next.particles.distribution_builders import ParticleResolvedSpeciatedMassBuilder\n",
    "from particula.next.gas.atmosphere_builder import AtmosphereBuilder\n",
    "from particula.next.gas.vapor_pressure_factories import VaporPressureFactory\n",
    "from particula.next.gas.species_builder import GasSpeciesBuilder\n",
    "from particula.next.aerosol import Aerosol\n",
    "from particula.next.dynamics import particle_process\n",
    "from particula.next.dynamics.condensation import CondensationIsothermal\n",
    "from particula.next.particles.activity_strategies import IdealActivityMass\n",
    "from particula.next.particles.surface_strategies import SurfaceStrategyVolume\n",
    "from particula.next.particles.properties.lognormal_size_distribution import lognormal_sample_distribution\n",
    "from particula.next.dynamics import coagulation"
   ]
  },
  {
   "cell_type": "code",
   "execution_count": 44,
   "metadata": {},
   "outputs": [
    {
     "name": "stdout",
     "output_type": "stream",
     "text": [
      "Saturation concentration: 2.54e-03 kg/m^3\n",
      "Gas mixture at 298.15 K and 101325.0 Pa consisting of ['Glycerol']\n"
     ]
    }
   ],
   "source": [
    "# Glycerol gas\n",
    "molar_mass_glycerol = 92.09382e-3  # kg/mol\n",
    "parameters_clausius = {\n",
    "    \"latent_heat\": 71.5 * molar_mass_glycerol,\n",
    "    \"latent_heat_units\": \"kJ/kg\",\n",
    "    \"temperature_initial\": 125.5,\n",
    "    \"temperature_initial_units\": \"degC\",\n",
    "    \"pressure_initial\": 1,\n",
    "    \"pressure_initial_units\": \"mmHg\",\n",
    "}\n",
    "vapor_pressure_strategy = VaporPressureFactory().get_strategy(\n",
    "    \"clausius_clapeyron\", parameters_clausius\n",
    ")\n",
    "\n",
    "sat_concentration = vapor_pressure_strategy.saturation_concentration(\n",
    "    molar_mass_glycerol, 298.15\n",
    ")\n",
    "print(f\"Saturation concentration: {sat_concentration:.2e} kg/m^3\")\n",
    "\n",
    "sat_factor = 0.50  # 50% of saturation concentration\n",
    "glycerol_gas = (\n",
    "    GasSpeciesBuilder()\n",
    "    .set_molar_mass(molar_mass_glycerol, \"kg/mol\")\n",
    "    .set_vapor_pressure_strategy(vapor_pressure_strategy)\n",
    "    .set_concentration(sat_concentration * sat_factor, \"kg/m^3\")\n",
    "    .set_name(\"Glycerol\")\n",
    "    .set_condensable(True)\n",
    "    .build()\n",
    ")\n",
    "\n",
    "atmosphere = (\n",
    "    AtmosphereBuilder()\n",
    "    .add_species(glycerol_gas)\n",
    "    .set_temperature(25, temperature_units=\"degC\")\n",
    "    .set_pressure(1, pressure_units=\"atm\")\n",
    "    .build()\n",
    ")\n",
    "\n",
    "# Glycerol particle distribution\n",
    "\n",
    "particle_sample = lognormal_sample_distribution(\n",
    "    mode= np.array([100e-9]),\n",
    "    geometric_standard_deviation= np.array([1.3]),\n",
    "    number_of_particles= np.array([1e4]),\n",
    "    number_of_samples=100_000,\n",
    ")\n",
    "\n",
    "particle_mass_sample = 4 / 3 * np.pi * particle_sample ** 3 * 1260 # kg\n",
    "\n",
    "resolved_masses = (\n",
    "    ResolvedParticleMassRepresentationBuilder()\n",
    "    .set_distribution_strategy(ParticleResolvedSpeciatedMassBuilder().build())\n",
    "    .set_activity_strategy(IdealActivityMass())\n",
    "    .set_surface_strategy(SurfaceStrategyVolume())\n",
    "    .set_mass(particle_mass_sample, \"kg\")\n",
    "    .set_density(1260, \"kg/m^3\")\n",
    "    .set_charge(0)\n",
    "    .set_volume(0.1, \"cm^3\")\n",
    "    .set_mass(particle_mass_sample, \"kg\")\n",
    "    .build()\n",
    ")\n",
    "\n",
    "aerosol = Aerosol(atmosphere=atmosphere, particles=resolved_masses)\n",
    "\n",
    "print(aerosol.atmosphere)\n"
   ]
  },
  {
   "cell_type": "code",
   "execution_count": 45,
   "metadata": {},
   "outputs": [
    {
     "name": "stdout",
     "output_type": "stream",
     "text": [
      "Particles that coagulated: 36721\n"
     ]
    },
    {
     "data": {
      "image/png": "[encoded data removed]",
      "text/plain": [
       "<Figure size 800x600 with 1 Axes>"
      ]
     },
     "metadata": {},
     "output_type": "display_data"
    }
   ],
   "source": [
    "coagulation_strategy = coagulation.ParticleResolved()\n",
    "coagulation_process = particle_process.Coagulation(coagulation_strategy=coagulation_strategy)\n",
    "\n",
    "# Coagulation\n",
    "time_step = 1000\n",
    "sub_steps = 100\n",
    "\n",
    "bins_lognormal = np.logspace(-8, -6, 100)\n",
    "\n",
    "\n",
    "fig, ax = plt.subplots(figsize=(8, 6))\n",
    "bins, edges = np.histogram(\n",
    "    aerosol.particles[0].get_radius(), bins=bins_lognormal\n",
    ")\n",
    "ax.bar(edges[:-1], bins, width=np.diff(edges), align=\"edge\", label=\"Initial\")\n",
    "\n",
    "# one step\n",
    "aerosol = coagulation_process.execute(aerosol, time_step=time_step, sub_steps=sub_steps)\n",
    "bins, edges = np.histogram(\n",
    "    aerosol.particles[0].get_radius(), bins=bins_lognormal\n",
    ")\n",
    "ax.bar(\n",
    "    edges[:-1],\n",
    "    bins,\n",
    "    width=np.diff(edges),\n",
    "    align=\"edge\",\n",
    "    label=\"After 1 step\",\n",
    "    alpha=0.7,\n",
    ")\n",
    "\n",
    "# step 2\n",
    "aerosol = coagulation_process.execute(aerosol, time_step=time_step, sub_steps=sub_steps)\n",
    "bins, edges = np.histogram(\n",
    "    aerosol.particles[0].get_radius(), bins=bins_lognormal\n",
    ")\n",
    "ax.bar(\n",
    "    edges[:-1],\n",
    "    bins,\n",
    "    width=np.diff(edges),\n",
    "    align=\"edge\",\n",
    "    label=\"After 2 steps\",\n",
    "    alpha=0.6,\n",
    ")\n",
    "zero_count = np.sum(aerosol.particles[0].get_mass()==0)\n",
    "print(f\"Particles that coagulated: {zero_count}\")\n",
    "\n",
    "ax.set_xscale(\"log\")\n",
    "# ax.set_yscale(\"log\")\n",
    "plt.legend()\n",
    "ax.set_xlabel(\"Radius (m)\")\n",
    "ax.set_ylabel(f\"Number of particles\")\n",
    "plt.show()"
   ]
  },
  {
   "cell_type": "code",
   "execution_count": null,
   "metadata": {},
   "outputs": [],
   "source": []
  }
 ],
 "metadata": {
  "kernelspec": {
   "display_name": "ParticulaDev_py311",
   "language": "python",
   "name": "python3"
  },
  "language_info": {
   "codemirror_mode": {
    "name": "ipython",
    "version": 3
   },
   "file_extension": ".py",
   "mimetype": "text/x-python",
   "name": "python",
   "nbconvert_exporter": "python",
   "pygments_lexer": "ipython3",
   "version": "3.11.8"
  }
 },
 "nbformat": 4,
 "nbformat_minor": 2
}
