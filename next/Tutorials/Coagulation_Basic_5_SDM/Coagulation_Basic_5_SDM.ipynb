{
 "cells": [
  {
   "cell_type": "markdown",
   "metadata": {},
   "source": [
    "# Particle Resolved Coagulation Using the Super Droplet Method\n",
    "\n",
    "## Introduction\n",
    "\n",
    "In aerosol science, understanding particle-particle interactions is crucial for predicting the evolution of particle size distributions. One such interaction is **coagulation**, where two particles collide and merge into a larger particle. Modeling coagulation accurately can be computationally expensive, especially when tracking individual particles. \n",
    "\n",
    "The **super droplet method** is a technique that allows for the efficient simulation of coagulation in a computationally feasible manner. It represents a large number of real particles with a smaller number of computational particles (super droplets), each carrying a statistical weight that reflects the number of real particles it represents.\n",
    "\n",
    "This notebook provides a step-by-step guide to simulating coagulation using the super droplet method with a particle-resolved approach.\n",
    "\n",
    "## Setup and Imports\n",
    "\n",
    "We'll start by importing the necessary libraries and setting up the environment.\n"
   ]
  },
  {
   "cell_type": "code",
   "execution_count": 1,
   "metadata": {},
   "outputs": [],
   "source": [
    "# %% particle resolved coagulation example\n",
    "import numpy as np  # For numerical operations and array manipulations\n",
    "import matplotlib.pyplot as plt  # For plotting graphs and visualizations\n",
    "\n",
    "# Import specific modules from the particula package\n",
    "from particula.next.dynamics.coagulation import brownian_kernel\n",
    "from particula.next.dynamics.coagulation import super_droplet_method\n",
    "\n",
    "from particula.next.particles.properties.lognormal_size_distribution import (\n",
    "    lognormal_sample_distribution,\n",
    ")"
   ]
  },
  {
   "cell_type": "markdown",
   "metadata": {},
   "source": [
    "## Generating a Lognormal Spacing\n",
    "\n",
    "In this section, we generate a sample particle size distribution following a lognormal distribution. The lognormal distribution is commonly used in aerosol science to describe particle size distributions. \n",
    "\n",
    "## Coagulation Kernel\n",
    "\n",
    "We also calculate the Brownian coagulation kernel for these particles, which quantifies the probability of coagulation between particles of different sizes.\n",
    "\n",
    "## Random seed\n",
    "\n",
    "We set a random seed to ensure reproducibility of the results."
   ]
  },
  {
   "cell_type": "code",
   "execution_count": 2,
   "metadata": {},
   "outputs": [],
   "source": [
    "# lognormal spacing\n",
    "\n",
    "radius_bins = np.logspace(\n",
    "    -9, -6, num=20\n",
    ")  # Define the radius bins for the distribution\n",
    "mass_bins = (\n",
    "    4 / 3 * np.pi * radius_bins**3 * 1000\n",
    ")  # Calculate the mass of the particles in the bins\n",
    "\n",
    "kernel_bins = brownian_kernel.brownian_coagulation_kernel_via_system_state(\n",
    "    radius_particle=radius_bins,\n",
    "    mass_particle=mass_bins,\n",
    "    temperature=298.15,\n",
    "    pressure=101325,\n",
    ")  # Calculate the Brownian coagulation kernel for the radius bins\n",
    "\n",
    "rng = np.random.default_rng(12345)"
   ]
  },
  {
   "cell_type": "markdown",
   "metadata": {},
   "source": [
    "## Sampling the Particle Distribution\n",
    "\n",
    "We then sample particles from the lognormal distribution. These particles will be sorted by size to prepare for the coagulation step."
   ]
  },
  {
   "cell_type": "code",
   "execution_count": 3,
   "metadata": {},
   "outputs": [],
   "source": [
    "# %% sample particle distribution\n",
    "particle_radius = lognormal_sample_distribution(\n",
    "    mode=np.array([1e-8, 1e-7]),\n",
    "    geometric_standard_deviation=np.array([1.4, 1.4]),\n",
    "    number_of_particles=np.array([5000, 1000]),\n",
    "    number_of_samples=1000,\n",
    ")\n",
    "particle_radius = np.sort(particle_radius)\n",
    "particles_original = particle_radius.copy()"
   ]
  },
  {
   "cell_type": "markdown",
   "metadata": {},
   "source": [
    "## Coagulation Step Using the Super Droplet Method\n",
    "\n",
    "In the coagulation step, particles collide and merge over a given time step. The super droplet method efficiently simulates this process by adjusting the particle sizes and concentrations based on the calculated kernel and the specified volume and time step."
   ]
  },
  {
   "cell_type": "code",
   "execution_count": 4,
   "metadata": {},
   "outputs": [
    {
     "name": "stdout",
     "output_type": "stream",
     "text": [
      "Final volume: 1.7513691992283998e-12\n",
      "Final number of particles: 3866207246.663141\n"
     ]
    }
   ],
   "source": [
    "# %% Coagulation step\n",
    "\n",
    "delta_t = 1  # time step in seconds\n",
    "\n",
    "random_concentration = np.random.uniform(1, 10, size=particle_radius.size)\n",
    "particle_concentration = (\n",
    "    np.ones_like(particle_radius) * random_concentration * 1e6\n",
    ")  # particles per m^3\n",
    "particle_concentration = particle_concentration.astype(np.float64)\n",
    "volume_sim = 1  # m^3\n",
    "\n",
    "particle_radius, particle_concentration = (\n",
    "    super_droplet_method.coagulation_step(\n",
    "        particle_radius=particle_radius,\n",
    "        particle_concentration=particle_concentration,\n",
    "        kernel=kernel_bins,\n",
    "        kernel_radius=radius_bins,\n",
    "        volume=volume_sim,\n",
    "        time_step=delta_t,\n",
    "        random_generator=rng,\n",
    "    )\n",
    ")\n",
    "\n",
    "volume_final = np.power(particle_radius, 3)\n",
    "volume_concentration_final = volume_final * particle_concentration\n",
    "volume_total_final = np.sum(volume_concentration_final)\n",
    "\n",
    "print(f\"Final volume: {volume_total_final}\")\n",
    "print(f\"Final number of particles: {np.sum(particle_concentration)}\")"
   ]
  },
  {
   "cell_type": "markdown",
   "metadata": {},
   "source": [
    "## Plotting the New Distribution\n",
    "\n",
    "Finally, we plot the particle size distribution before and after coagulation. This visualization helps us understand the effect of the coagulation process on the particle size distribution.\n"
   ]
  },
  {
   "cell_type": "code",
   "execution_count": 6,
   "metadata": {},
   "outputs": [
    {
     "data": {
      "image/png": "[encoded data removed]",
      "text/plain": [
       "<Figure size 640x480 with 1 Axes>"
      ]
     },
     "metadata": {},
     "output_type": "display_data"
    }
   ],
   "source": [
    "# %% plot new distribution\n",
    "fig, ax = plt.subplots()\n",
    "ax.hist(\n",
    "    particles_original, bins=100, histtype=\"step\", color=\"black\", density=True\n",
    ")\n",
    "ax.hist(\n",
    "    particle_radius, bins=100, histtype=\"step\", color=\"blue\", density=True\n",
    ")\n",
    "ax.set_xscale(\"log\")\n",
    "ax.set_yscale(\"log\")\n",
    "ax.set_xlabel(\"Particle radius (m)\")\n",
    "ax.set_ylabel(\"Frequency\")\n",
    "plt.show()"
   ]
  },
  {
   "cell_type": "markdown",
   "metadata": {},
   "source": [
    "## Conclusion\n",
    "\n",
    "This notebook demonstrated the use of the super droplet method to simulate particle coagulation in a computationally efficient manner. By representing multiple real particles with fewer computational particles, we can model complex aerosol dynamics over time without the need for excessive computational resources.\n"
   ]
  }
 ],
 "metadata": {
  "kernelspec": {
   "display_name": "ParticulaDev_py311",
   "language": "python",
   "name": "python3"
  },
  "language_info": {
   "codemirror_mode": {
    "name": "ipython",
    "version": 3
   },
   "file_extension": ".py",
   "mimetype": "text/x-python",
   "name": "python",
   "nbconvert_exporter": "python",
   "pygments_lexer": "ipython3",
   "version": "3.11.8"
  }
 },
 "nbformat": 4,
 "nbformat_minor": 2
}
