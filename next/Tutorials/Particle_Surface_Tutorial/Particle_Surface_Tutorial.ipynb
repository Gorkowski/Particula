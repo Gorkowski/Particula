{
 "cells": [
  {
   "cell_type": "markdown",
   "metadata": {},
   "source": [
    "# Particle Surface Tutorial\n",
    "\n",
    "Understanding how particle surfaces are represented is crucial in the study of condensation processes involving water and organic molecules. This is primarily influenced by the Kelvin curvature effect, which describes how the saturation vapor pressure of a liquid droplet varies with its size. This tutorial will introduce the fundamental approaches to modeling the particle surface in aerosol particle simulations.\n",
    "\n",
    "[Kelvin Curvature Effect](https://en.wikipedia.org/wiki/Kelvin_equation)\n",
    "\n",
    "## Strategies for Surface Representation\n",
    "\n",
    "To accurately simulate particle surfaces, one must adhere to the `SurfaceStrategy` abstract base class. This class outlines common methods required for all surface representation strategies:\n",
    "\n",
    "- `kelvin_radius`: Calculates the particle radius that corresponds to the Kelvin curvature effect.\n",
    "- `kelvin_term`: Computes the Kelvin term, defined as exp(kelvin_radius / particle_radius).\n",
    "\n",
    "Specifically, the strategies differ in how they calculate:\n",
    "\n",
    "- `effective_surface_tension`: Determines the effective surface tension of species based on their concentration.\n",
    "- `effective_density`: Computes the effective density of species based on their concentration.\n",
    "\n",
    "While each strategy may require additional parameters, defining surface tension is essential for all. The primary strategies include:\n",
    "\n",
    "- `SurfaceStrategyMolar`: Uses mole fraction weighted values to determine surface tension and density.\n",
    "- `SurfaceStrategyMass`: Uses mass fraction weighted values to determine surface tension and density.\n",
    "- `SurfaceStrategyVolume`: Uses volume fraction weighted values to determine surface tension and density.\n",
    "\n",
    "Each strategy is interchangeable and suitable for use in aerosol particle simulations. The choice of strategy should be guided by the available data and the level of detail required for the simulation.\n",
    "\n",
    "In this tutorial, we will demonstrate how to create and use these strategies, employing builders and factories to instantiate them and calculate both the Kelvin radius and term."
   ]
  },
  {
   "cell_type": "code",
   "execution_count": 1,
   "metadata": {},
   "outputs": [],
   "source": [
    "import numpy as np\n",
    "import matplotlib.pyplot as plt\n",
    "\n",
    "from particula.next.particles.surface_builders import SurfaceStrategyMassBuilder\n",
    "from particula.next.particles.surface_factories import SurfaceFactory\n"
   ]
  },
  {
   "cell_type": "code",
   "execution_count": null,
   "metadata": {},
   "outputs": [],
   "source": []
  }
 ],
 "metadata": {
  "kernelspec": {
   "display_name": "ParticulaDev_py311",
   "language": "python",
   "name": "python3"
  },
  "language_info": {
   "codemirror_mode": {
    "name": "ipython",
    "version": 3
   },
   "file_extension": ".py",
   "mimetype": "text/x-python",
   "name": "python",
   "nbconvert_exporter": "python",
   "pygments_lexer": "ipython3",
   "version": "3.11.8"
  }
 },
 "nbformat": 4,
 "nbformat_minor": 2
}
